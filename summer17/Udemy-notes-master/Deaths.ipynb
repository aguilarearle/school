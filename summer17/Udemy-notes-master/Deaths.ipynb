{
 "cells": [
  {
   "cell_type": "code",
   "execution_count": 1,
   "metadata": {
    "collapsed": true
   },
   "outputs": [],
   "source": [
    "import numpy as np\n",
    "import pandas as pd\n",
    "\n",
    "from pandas import Series, DataFrame\n",
    "\n",
    "import seaborn as sns\n",
    "\n",
    "import matplotlib.pyplot as plt\n",
    "\n",
    "%matplotlib inline\n",
    "\n",
    "from __future__ import division\n",
    "\n",
    "from collections import Counter"
   ]
  },
  {
   "cell_type": "code",
   "execution_count": 2,
   "metadata": {
    "collapsed": true
   },
   "outputs": [],
   "source": [
    "deaths = pd.read_csv(\"/Users/earleaguilar/DataSets/DeathRecords/DeathRecords.csv\")"
   ]
  },
  {
   "cell_type": "code",
   "execution_count": 12,
   "metadata": {},
   "outputs": [
    {
     "name": "stdout",
     "output_type": "stream",
     "text": [
      "<class 'pandas.core.frame.DataFrame'>\n",
      "RangeIndex: 2631171 entries, 0 to 2631170\n",
      "Data columns (total 38 columns):\n",
      "Id                                int64\n",
      "ResidentStatus                    int64\n",
      "Education1989Revision             int64\n",
      "Education2003Revision             int64\n",
      "EducationReportingFlag            int64\n",
      "MonthOfDeath                      int64\n",
      "Sex                               object\n",
      "AgeType                           int64\n",
      "Age                               int64\n",
      "AgeSubstitutionFlag               int64\n",
      "AgeRecode52                       int64\n",
      "AgeRecode27                       int64\n",
      "AgeRecode12                       int64\n",
      "InfantAgeRecode22                 int64\n",
      "PlaceOfDeathAndDecedentsStatus    int64\n",
      "MaritalStatus                     object\n",
      "DayOfWeekOfDeath                  int64\n",
      "CurrentDataYear                   int64\n",
      "InjuryAtWork                      object\n",
      "MannerOfDeath                     int64\n",
      "MethodOfDisposition               object\n",
      "Autopsy                           object\n",
      "ActivityCode                      int64\n",
      "PlaceOfInjury                     int64\n",
      "Icd10Code                         object\n",
      "CauseRecode358                    int64\n",
      "CauseRecode113                    int64\n",
      "InfantCauseRecode130              int64\n",
      "CauseRecode39                     int64\n",
      "NumberOfEntityAxisConditions      int64\n",
      "NumberOfRecordAxisConditions      int64\n",
      "Race                              int64\n",
      "BridgedRaceFlag                   int64\n",
      "RaceImputationFlag                int64\n",
      "RaceRecode3                       int64\n",
      "RaceRecode5                       int64\n",
      "HispanicOrigin                    int64\n",
      "HispanicOriginRaceRecode          int64\n",
      "dtypes: int64(32), object(6)\n",
      "memory usage: 762.8+ MB\n"
     ]
    }
   ],
   "source": [
    "deaths.info()"
   ]
  },
  {
   "cell_type": "code",
   "execution_count": null,
   "metadata": {
    "collapsed": true
   },
   "outputs": [],
   "source": []
  }
 ],
 "metadata": {
  "kernelspec": {
   "display_name": "Python 2",
   "language": "python",
   "name": "python2"
  },
  "language_info": {
   "codemirror_mode": {
    "name": "ipython",
    "version": 2
   },
   "file_extension": ".py",
   "mimetype": "text/x-python",
   "name": "python",
   "nbconvert_exporter": "python",
   "pygments_lexer": "ipython2",
   "version": "2.7.13"
  }
 },
 "nbformat": 4,
 "nbformat_minor": 2
}
