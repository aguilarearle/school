{
 "cells": [
  {
   "cell_type": "code",
   "execution_count": 188,
   "metadata": {
    "collapsed": true
   },
   "outputs": [],
   "source": [
    "from IPython.display import display, HTML"
   ]
  },
  {
   "cell_type": "code",
   "execution_count": 189,
   "metadata": {},
   "outputs": [
    {
     "data": {
      "text/html": [
       "<script>\n",
       "code_show=true; \n",
       "function code_toggle() {\n",
       " if (code_show){\n",
       " $('div.input').hide();\n",
       " } else {\n",
       " $('div.input').show();\n",
       " }\n",
       " code_show = !code_show\n",
       "} \n",
       "$( document ).ready(code_toggle);\n",
       "</script>\n",
       "The raw code for this IPython notebook is by default hidden for easier reading.\n",
       "To toggle on/off the raw code, click <a href=\"javascript:code_toggle()\">here</a>."
      ],
      "text/plain": [
       "<IPython.core.display.HTML object>"
      ]
     },
     "execution_count": 189,
     "metadata": {},
     "output_type": "execute_result"
    }
   ],
   "source": [
    "HTML('''<script>\n",
    "code_show=true; \n",
    "function code_toggle() {\n",
    " if (code_show){\n",
    " $('div.input').hide();\n",
    " } else {\n",
    " $('div.input').show();\n",
    " }\n",
    " code_show = !code_show\n",
    "} \n",
    "$( document ).ready(code_toggle);\n",
    "</script>\n",
    "The raw code for this IPython notebook is by default hidden for easier reading.\n",
    "To toggle on/off the raw code, click <a href=\"javascript:code_toggle()\">here</a>.''')"
   ]
  },
  {
   "cell_type": "code",
   "execution_count": 190,
   "metadata": {},
   "outputs": [
    {
     "data": {
      "text/html": [
       "<script>\n",
       "code_show_err=false; \n",
       "function code_toggle_err() {\n",
       " if (code_show_err){\n",
       " $('div.output_stderr').hide();\n",
       " } else {\n",
       " $('div.output_stderr').show();\n",
       " }\n",
       " code_show_err = !code_show_err\n",
       "} \n",
       "$( document ).ready(code_toggle_err);\n",
       "</script>\n",
       "To toggle on/off output_stderr, click <a href=\"javascript:code_toggle_err()\">here</a>."
      ],
      "text/plain": [
       "<IPython.core.display.HTML object>"
      ]
     },
     "execution_count": 190,
     "metadata": {},
     "output_type": "execute_result"
    }
   ],
   "source": [
    "HTML('''<script>\n",
    "code_show_err=false; \n",
    "function code_toggle_err() {\n",
    " if (code_show_err){\n",
    " $('div.output_stderr').hide();\n",
    " } else {\n",
    " $('div.output_stderr').show();\n",
    " }\n",
    " code_show_err = !code_show_err\n",
    "} \n",
    "$( document ).ready(code_toggle_err);\n",
    "</script>\n",
    "To toggle on/off output_stderr, click <a href=\"javascript:code_toggle_err()\">here</a>.''')"
   ]
  },
  {
   "cell_type": "code",
   "execution_count": 191,
   "metadata": {},
   "outputs": [
    {
     "data": {
      "text/html": [
       "<style>\n",
       ".output {\n",
       "    align-items: center;\n",
       "}\n",
       "</style>"
      ],
      "text/plain": [
       "<IPython.core.display.HTML object>"
      ]
     },
     "execution_count": 191,
     "metadata": {},
     "output_type": "execute_result"
    }
   ],
   "source": [
    "CSS = \"\"\"\n",
    ".output {\n",
    "    align-items: center;\n",
    "}\n",
    "\"\"\"\n",
    "HTML('<style>{}</style>'.format(CSS))"
   ]
  },
  {
   "cell_type": "code",
   "execution_count": 192,
   "metadata": {
    "collapsed": true
   },
   "outputs": [],
   "source": [
    "import numpy as np\n",
    "import pandas as pd\n",
    "\n",
    "from pandas import Series, DataFrame\n",
    "\n",
    "import seaborn as sns\n",
    "\n",
    "import matplotlib.pyplot as plt\n",
    "\n",
    "%matplotlib inline\n",
    " \n",
    "from __future__ import division\n",
    "\n",
    "from collections import Counter"
   ]
  },
  {
   "cell_type": "code",
   "execution_count": 193,
   "metadata": {
    "collapsed": true
   },
   "outputs": [],
   "source": [
    "fights = pd.read_csv(\"/Users/earleaguilar/DataSets/ALL_UFC_FIGHTS_(2-23-2016)_SHERDOG.COM_Sheet1.csv\")\n"
   ]
  },
  {
   "cell_type": "code",
   "execution_count": 194,
   "metadata": {
    "collapsed": true
   },
   "outputs": [],
   "source": [
    "fights = fights.drop([\"pageurl\",\"f1pageurl\",\"f2pageurl\"],1)"
   ]
  },
  {
   "cell_type": "markdown",
   "metadata": {},
   "source": [
    "# UFC Data Analysis\n",
    "\n",
    "Here we analyze data from the UFC which was scraped from Sherodog.com and includes all fights/fighters in the UFC up to February 2 2016. Information includes name of fighters, method of win, ref, gym, round, etc ...\n",
    "\n",
    "In this analysis I hope to answer some of the following questions:\n",
    "\n",
    "1. Who are the fighters with the most amount of wins?\n",
    "2. What are the most common ways fights end?\n",
    "3. How do these top fighters win?\n",
    "4. For fights that do not go to decision, what are the main methods used to win the fight?\n",
    "5. Which submissions are most effective?\n",
    "6. Which TKOs are more effective?\n",
    "7. As the rounds progress which methods increase in likelyhood to win?\n",
    "8. Within rounds which methods are most effective in finishing fights?\n",
    "1. Which gym produce more fighters that win?\n",
    "2. What type of weightclass do the top gyms tend to condition better?\n",
    "3. What type of fighter do top gyms tend to create? i.e knocout artist, submission artist, wrestler types.\n",
    "4. Which countries have more winning fighters?\n"
   ]
  },
  {
   "cell_type": "code",
   "execution_count": null,
   "metadata": {},
   "outputs": [],
   "source": []
  },
  {
   "cell_type": "code",
   "execution_count": null,
   "metadata": {},
   "outputs": [],
   "source": []
  },
  {
   "cell_type": "markdown",
   "metadata": {},
   "source": [
    "## Who were the fighters with the most amount of wins?\n",
    "\n",
    "As we can see the top fighters all have more than 15 wins and less than 10 losses. The mean number of wins among the top ten is 16 and the mean amount of losses is 6. Which puts Georges St. Pierre's record of 19 wins and 2 loses at two standard deviations above the mean for wins and one and a half standard deviations below the mean for losses."
   ]
  },
  {
   "cell_type": "code",
   "execution_count": 195,
   "metadata": {
    "collapsed": true
   },
   "outputs": [],
   "source": [
    "res1 = fights[\"f1result\"].groupby([fights[\"f1name\"]])\n",
    "res2 = fights[\"f2result\"].groupby([fights[\"f2name\"]])"
   ]
  },
  {
   "cell_type": "code",
   "execution_count": 196,
   "metadata": {},
   "outputs": [
    {
     "data": {
      "text/html": [
       "<div>\n",
       "<style>\n",
       "    .dataframe thead tr:only-child th {\n",
       "        text-align: right;\n",
       "    }\n",
       "\n",
       "    .dataframe thead th {\n",
       "        text-align: left;\n",
       "    }\n",
       "\n",
       "    .dataframe tbody tr th {\n",
       "        vertical-align: top;\n",
       "    }\n",
       "</style>\n",
       "<table border=\"1\" class=\"dataframe\">\n",
       "  <thead>\n",
       "    <tr style=\"text-align: right;\">\n",
       "      <th></th>\n",
       "      <th>NC</th>\n",
       "      <th>draw</th>\n",
       "      <th>loss</th>\n",
       "      <th>win</th>\n",
       "    </tr>\n",
       "  </thead>\n",
       "  <tbody>\n",
       "    <tr>\n",
       "      <th>Georges St. Pierre</th>\n",
       "      <td>0.0</td>\n",
       "      <td>0.0</td>\n",
       "      <td>2.0</td>\n",
       "      <td>19.0</td>\n",
       "    </tr>\n",
       "    <tr>\n",
       "      <th>Matt Hughes</th>\n",
       "      <td>0.0</td>\n",
       "      <td>0.0</td>\n",
       "      <td>7.0</td>\n",
       "      <td>18.0</td>\n",
       "    </tr>\n",
       "    <tr>\n",
       "      <th>Michael Bisping</th>\n",
       "      <td>0.0</td>\n",
       "      <td>0.0</td>\n",
       "      <td>7.0</td>\n",
       "      <td>17.0</td>\n",
       "    </tr>\n",
       "    <tr>\n",
       "      <th>Gleison Tibau</th>\n",
       "      <td>0.0</td>\n",
       "      <td>0.0</td>\n",
       "      <td>9.0</td>\n",
       "      <td>17.0</td>\n",
       "    </tr>\n",
       "    <tr>\n",
       "      <th>Frank Mir</th>\n",
       "      <td>0.0</td>\n",
       "      <td>0.0</td>\n",
       "      <td>10.0</td>\n",
       "      <td>16.0</td>\n",
       "    </tr>\n",
       "    <tr>\n",
       "      <th>Donald Cerrone</th>\n",
       "      <td>0.0</td>\n",
       "      <td>0.0</td>\n",
       "      <td>4.0</td>\n",
       "      <td>16.0</td>\n",
       "    </tr>\n",
       "    <tr>\n",
       "      <th>Chuck Liddell</th>\n",
       "      <td>0.0</td>\n",
       "      <td>0.0</td>\n",
       "      <td>7.0</td>\n",
       "      <td>16.0</td>\n",
       "    </tr>\n",
       "    <tr>\n",
       "      <th>Anderson Silva</th>\n",
       "      <td>1.0</td>\n",
       "      <td>0.0</td>\n",
       "      <td>2.0</td>\n",
       "      <td>16.0</td>\n",
       "    </tr>\n",
       "    <tr>\n",
       "      <th>Demian Maia</th>\n",
       "      <td>0.0</td>\n",
       "      <td>0.0</td>\n",
       "      <td>6.0</td>\n",
       "      <td>16.0</td>\n",
       "    </tr>\n",
       "    <tr>\n",
       "      <th>Randy Couture</th>\n",
       "      <td>0.0</td>\n",
       "      <td>0.0</td>\n",
       "      <td>8.0</td>\n",
       "      <td>15.0</td>\n",
       "    </tr>\n",
       "  </tbody>\n",
       "</table>\n",
       "</div>"
      ],
      "text/plain": [
       "                     NC  draw  loss   win\n",
       "Georges St. Pierre  0.0   0.0   2.0  19.0\n",
       "Matt Hughes         0.0   0.0   7.0  18.0\n",
       "Michael Bisping     0.0   0.0   7.0  17.0\n",
       "Gleison Tibau       0.0   0.0   9.0  17.0\n",
       "Frank Mir           0.0   0.0  10.0  16.0\n",
       "Donald Cerrone      0.0   0.0   4.0  16.0\n",
       "Chuck Liddell       0.0   0.0   7.0  16.0\n",
       "Anderson Silva      1.0   0.0   2.0  16.0\n",
       "Demian Maia         0.0   0.0   6.0  16.0\n",
       "Randy Couture       0.0   0.0   8.0  15.0"
      ]
     },
     "execution_count": 196,
     "metadata": {},
     "output_type": "execute_result"
    }
   ],
   "source": [
    "res1 = res1.value_counts().unstack()\n",
    "res2 = res2.value_counts().unstack()\n",
    "\n",
    "tot_res = res1.combine_first(res2)\n",
    "tot_res.fillna(0, inplace=True)\n",
    "\n",
    "tot_res = DataFrame(tot_res)\n",
    "\n",
    "top_ten_f = tot_res.sort_values('win',ascending=False).head(n=10)\n",
    "top_ten_f"
   ]
  },
  {
   "cell_type": "code",
   "execution_count": 197,
   "metadata": {},
   "outputs": [
    {
     "data": {
      "text/html": [
       "<div>\n",
       "<style>\n",
       "    .dataframe thead tr:only-child th {\n",
       "        text-align: right;\n",
       "    }\n",
       "\n",
       "    .dataframe thead th {\n",
       "        text-align: left;\n",
       "    }\n",
       "\n",
       "    .dataframe tbody tr th {\n",
       "        vertical-align: top;\n",
       "    }\n",
       "</style>\n",
       "<table border=\"1\" class=\"dataframe\">\n",
       "  <thead>\n",
       "    <tr style=\"text-align: right;\">\n",
       "      <th></th>\n",
       "      <th>NC</th>\n",
       "      <th>draw</th>\n",
       "      <th>loss</th>\n",
       "      <th>win</th>\n",
       "    </tr>\n",
       "  </thead>\n",
       "  <tbody>\n",
       "    <tr>\n",
       "      <th>count</th>\n",
       "      <td>10.000000</td>\n",
       "      <td>10.0</td>\n",
       "      <td>10.000000</td>\n",
       "      <td>10.000000</td>\n",
       "    </tr>\n",
       "    <tr>\n",
       "      <th>mean</th>\n",
       "      <td>0.100000</td>\n",
       "      <td>0.0</td>\n",
       "      <td>6.200000</td>\n",
       "      <td>16.600000</td>\n",
       "    </tr>\n",
       "    <tr>\n",
       "      <th>std</th>\n",
       "      <td>0.316228</td>\n",
       "      <td>0.0</td>\n",
       "      <td>2.740641</td>\n",
       "      <td>1.173788</td>\n",
       "    </tr>\n",
       "    <tr>\n",
       "      <th>min</th>\n",
       "      <td>0.000000</td>\n",
       "      <td>0.0</td>\n",
       "      <td>2.000000</td>\n",
       "      <td>15.000000</td>\n",
       "    </tr>\n",
       "    <tr>\n",
       "      <th>25%</th>\n",
       "      <td>0.000000</td>\n",
       "      <td>0.0</td>\n",
       "      <td>4.500000</td>\n",
       "      <td>16.000000</td>\n",
       "    </tr>\n",
       "    <tr>\n",
       "      <th>50%</th>\n",
       "      <td>0.000000</td>\n",
       "      <td>0.0</td>\n",
       "      <td>7.000000</td>\n",
       "      <td>16.000000</td>\n",
       "    </tr>\n",
       "    <tr>\n",
       "      <th>75%</th>\n",
       "      <td>0.000000</td>\n",
       "      <td>0.0</td>\n",
       "      <td>7.750000</td>\n",
       "      <td>17.000000</td>\n",
       "    </tr>\n",
       "    <tr>\n",
       "      <th>max</th>\n",
       "      <td>1.000000</td>\n",
       "      <td>0.0</td>\n",
       "      <td>10.000000</td>\n",
       "      <td>19.000000</td>\n",
       "    </tr>\n",
       "  </tbody>\n",
       "</table>\n",
       "</div>"
      ],
      "text/plain": [
       "              NC  draw       loss        win\n",
       "count  10.000000  10.0  10.000000  10.000000\n",
       "mean    0.100000   0.0   6.200000  16.600000\n",
       "std     0.316228   0.0   2.740641   1.173788\n",
       "min     0.000000   0.0   2.000000  15.000000\n",
       "25%     0.000000   0.0   4.500000  16.000000\n",
       "50%     0.000000   0.0   7.000000  16.000000\n",
       "75%     0.000000   0.0   7.750000  17.000000\n",
       "max     1.000000   0.0  10.000000  19.000000"
      ]
     },
     "execution_count": 197,
     "metadata": {},
     "output_type": "execute_result"
    }
   ],
   "source": [
    "top_ten_f.describe()"
   ]
  },
  {
   "cell_type": "markdown",
   "metadata": {},
   "source": [
    "# What are the most common ways fights end?"
   ]
  },
  {
   "cell_type": "code",
   "execution_count": 198,
   "metadata": {},
   "outputs": [
    {
     "data": {
      "text/plain": [
       "<matplotlib.text.Text at 0x120af2090>"
      ]
     },
     "execution_count": 198,
     "metadata": {},
     "output_type": "execute_result"
    },
    {
     "data": {
      "image/png": "[encoded data removed]",
      "text/plain": [
       "<matplotlib.figure.Figure at 0x12208a910>"
      ]
     },
     "metadata": {},
     "output_type": "display_data"
    }
   ],
   "source": [
    "finish1 = fights[fights[\"f1result\"] == 'win'][['f1name','method']]\n",
    "finish2 = fights[fights[\"f2result\"] == 'win'][['f2name','method']] \n",
    "\n",
    "finish1.columns = ['Name', 'Method']\n",
    "finish2.columns = ['Name', 'Method']\n",
    "\n",
    "fight_finish = pd.concat([finish1,finish2])\n",
    "\n",
    "fight_finish = DataFrame(Counter(fight_finish.Method).most_common(), columns=['Method', 'Count'])\n",
    "\n",
    "fight_finish.loc[fight_finish['Method'] == 'TKO','Count'] = fight_finish.loc[fight_finish['Method'] == 'Technical','Count'].values + fight_finish.loc[fight_finish['Method'] == 'TKO','Count'].values\n",
    "fight_finish = fight_finish[fight_finish['Method'] != 'Technical']\n",
    "#+ fight_finish.loc[fight_finish['Method'] == 'Technical','Count']\n",
    "#fight_finish.head()\n",
    "\n",
    "fight_finish = fight_finish.pivot_table(index='Method')\n",
    "fight_finish.sort_values('Count',ascending=False).plot(kind='bar')\n",
    "\n",
    "plt.title('Type of Finish')"
   ]
  },
  {
   "cell_type": "markdown",
   "metadata": {},
   "source": [
    "From the graph we can see that most fights end in a decision followed by a TKO, Submission, KO, and rarely does a fight end in a DQ"
   ]
  },
  {
   "cell_type": "markdown",
   "metadata": {},
   "source": [
    "# How do these top fighters win?"
   ]
  },
  {
   "cell_type": "code",
   "execution_count": 199,
   "metadata": {},
   "outputs": [],
   "source": [
    "# There are some \"No contest\" values that have descriptions on them but for the sake of analysis \n",
    "# I will convert them all to NC and since most NC occur post-fight I will ommit such fight results.\n",
    "\n",
    "fights.loc[fights['method'] == \"Technical\",'method'] = \"TKO\"\n",
    "fights.loc[fights['method'] == \"No Contest\",'method'] = \"NC\"\n",
    "fights.loc[fights['method'] == \"No\",'method'] = \"NC\"\n",
    "fights.loc[fights['method'] == \"No Contest - Hoffman Failed Drug Test\",'method'] = \"NC\"\n",
    "fights.loc[fights['method'] == \"No Contest - Overturned by State Commission\",'method'] = \"NC\"\n",
    "fights.loc[fights['method'] == \"No Contest - Caceres Failed Drug Test\",'method'] = \"NC\"\n",
    "fights.loc[fights['method'] == \"No Contest - Overturned by Commission\",'method'] = \"NC\"\n",
    "\n",
    "# Making two seperate dataframes with the name of the fighter who won and the method \n",
    "# used to win.\n",
    "method1 = fights[fights[\"f1result\"] == 'win'][['f1name','method']]\n",
    "method2 = fights[fights[\"f2result\"] == 'win'][['f2name','method']] \n",
    "\n",
    "method1.columns = ['Name','Method']\n",
    "method2.columns = ['Name','Method']\n",
    "\n",
    "winning_methods = pd.concat([method1,method2])"
   ]
  },
  {
   "cell_type": "code",
   "execution_count": 200,
   "metadata": {},
   "outputs": [],
   "source": [
    "# I create seperate columns so that I can count the number of occurences for each method. I am certain there\n",
    "# is a more efficient method than this and will investigate further.\n",
    "winning_methods['Decision'] = 0\n",
    "winning_methods['Submission'] = 0\n",
    "winning_methods['TKO'] = 0\n",
    "winning_methods['KO'] = 0\n",
    "winning_methods['DQ'] = 0\n",
    "winning_methods['NC'] = 0\n",
    "\n",
    "winning_methods.loc[winning_methods['Method'] == 'Decision', 'Decision' ] = 1\n",
    "winning_methods.loc[winning_methods['Method'] == 'Submission', 'Submission' ] = 1\n",
    "winning_methods.loc[winning_methods['Method'] == 'TKO', 'TKO' ] = 1\n",
    "winning_methods.loc[winning_methods['Method'] == 'Technical', 'TKO' ] = 1\n",
    "winning_methods.loc[winning_methods['Method'] == 'KO', 'KO' ] = 1\n",
    "winning_methods.loc[winning_methods['Method'] == 'DQ', 'DQ' ] = 1\n",
    "winning_methods.loc[winning_methods['Method'] == 'NC', 'NC' ] = 1\n",
    "\n",
    "# Here I group the fight ending methods by fighter \n",
    "winning_methods = winning_methods.groupby(\"Name\").sum().astype(float)"
   ]
  },
  {
   "cell_type": "markdown",
   "metadata": {},
   "source": [
    "Among the top 10 fighteres finishing a fight at a Decision or TKO are the most popular methods. Submissions follow these two methods and then KOs. "
   ]
  },
  {
   "cell_type": "code",
   "execution_count": 201,
   "metadata": {},
   "outputs": [
    {
     "data": {
      "text/plain": [
       "<matplotlib.text.Text at 0x12270d5d0>"
      ]
     },
     "execution_count": 201,
     "metadata": {},
     "output_type": "execute_result"
    },
    {
     "data": {
      "image/png": "[encoded data removed]",
      "text/plain": [
       "<matplotlib.figure.Figure at 0x122700990>"
      ]
     },
     "metadata": {},
     "output_type": "display_data"
    }
   ],
   "source": [
    "top_ten = tot_res['win'].sort_values(ascending=False).head(n=10).index.values\n",
    "\n",
    "col = ['Decision','Submission','TKO',\"DQ\",\"KO\"]\n",
    "winning_methods.loc[top_ten,col].plot(rot=90, kind='bar', figsize=(10,5),stacked=True)\n",
    "plt.legend(loc='center left', bbox_to_anchor=(1.0, 0.5))\n",
    "plt.title('Finish Methods of Top 10 UFC Fighters')\n",
    "plt.xlabel('Fighter')"
   ]
  },
  {
   "cell_type": "code",
   "execution_count": 202,
   "metadata": {},
   "outputs": [
    {
     "data": {
      "text/html": [
       "<div>\n",
       "<style>\n",
       "    .dataframe thead tr:only-child th {\n",
       "        text-align: right;\n",
       "    }\n",
       "\n",
       "    .dataframe thead th {\n",
       "        text-align: left;\n",
       "    }\n",
       "\n",
       "    .dataframe tbody tr th {\n",
       "        vertical-align: top;\n",
       "    }\n",
       "</style>\n",
       "<table border=\"1\" class=\"dataframe\">\n",
       "  <thead>\n",
       "    <tr style=\"text-align: right;\">\n",
       "      <th></th>\n",
       "      <th>Decision</th>\n",
       "      <th>Submission</th>\n",
       "      <th>TKO</th>\n",
       "      <th>DQ</th>\n",
       "      <th>KO</th>\n",
       "    </tr>\n",
       "  </thead>\n",
       "  <tbody>\n",
       "    <tr>\n",
       "      <th>count</th>\n",
       "      <td>10.000000</td>\n",
       "      <td>10.000000</td>\n",
       "      <td>10.000000</td>\n",
       "      <td>10.000000</td>\n",
       "      <td>10.000000</td>\n",
       "    </tr>\n",
       "    <tr>\n",
       "      <th>mean</th>\n",
       "      <td>6.300000</td>\n",
       "      <td>3.300000</td>\n",
       "      <td>5.000000</td>\n",
       "      <td>0.100000</td>\n",
       "      <td>1.900000</td>\n",
       "    </tr>\n",
       "    <tr>\n",
       "      <th>std</th>\n",
       "      <td>3.368151</td>\n",
       "      <td>2.057507</td>\n",
       "      <td>2.748737</td>\n",
       "      <td>0.316228</td>\n",
       "      <td>2.378141</td>\n",
       "    </tr>\n",
       "    <tr>\n",
       "      <th>min</th>\n",
       "      <td>2.000000</td>\n",
       "      <td>0.000000</td>\n",
       "      <td>2.000000</td>\n",
       "      <td>0.000000</td>\n",
       "      <td>0.000000</td>\n",
       "    </tr>\n",
       "    <tr>\n",
       "      <th>25%</th>\n",
       "      <td>4.250000</td>\n",
       "      <td>2.250000</td>\n",
       "      <td>2.500000</td>\n",
       "      <td>0.000000</td>\n",
       "      <td>0.000000</td>\n",
       "    </tr>\n",
       "    <tr>\n",
       "      <th>50%</th>\n",
       "      <td>6.000000</td>\n",
       "      <td>4.000000</td>\n",
       "      <td>4.500000</td>\n",
       "      <td>0.000000</td>\n",
       "      <td>0.500000</td>\n",
       "    </tr>\n",
       "    <tr>\n",
       "      <th>75%</th>\n",
       "      <td>7.750000</td>\n",
       "      <td>4.750000</td>\n",
       "      <td>6.750000</td>\n",
       "      <td>0.000000</td>\n",
       "      <td>3.750000</td>\n",
       "    </tr>\n",
       "    <tr>\n",
       "      <th>max</th>\n",
       "      <td>12.000000</td>\n",
       "      <td>6.000000</td>\n",
       "      <td>10.000000</td>\n",
       "      <td>1.000000</td>\n",
       "      <td>6.000000</td>\n",
       "    </tr>\n",
       "  </tbody>\n",
       "</table>\n",
       "</div>"
      ],
      "text/plain": [
       "        Decision  Submission        TKO         DQ         KO\n",
       "count  10.000000   10.000000  10.000000  10.000000  10.000000\n",
       "mean    6.300000    3.300000   5.000000   0.100000   1.900000\n",
       "std     3.368151    2.057507   2.748737   0.316228   2.378141\n",
       "min     2.000000    0.000000   2.000000   0.000000   0.000000\n",
       "25%     4.250000    2.250000   2.500000   0.000000   0.000000\n",
       "50%     6.000000    4.000000   4.500000   0.000000   0.500000\n",
       "75%     7.750000    4.750000   6.750000   0.000000   3.750000\n",
       "max    12.000000    6.000000  10.000000   1.000000   6.000000"
      ]
     },
     "execution_count": 202,
     "metadata": {},
     "output_type": "execute_result"
    }
   ],
   "source": [
    "winning_methods.loc[top_ten,col].describe()"
   ]
  },
  {
   "cell_type": "markdown",
   "metadata": {},
   "source": [
    "# For fights that do not go to decision, what are the main methods used to win the fight?"
   ]
  },
  {
   "cell_type": "code",
   "execution_count": 203,
   "metadata": {
    "collapsed": true
   },
   "outputs": [],
   "source": [
    "type_finish1 = fights[fights[\"f1result\"] == 'win'][['f1name','method_d']]\n",
    "type_finish2 = fights[fights[\"f2result\"] == 'win'][['f2name','method_d']] \n",
    "\n",
    "type_finish1.columns = ['Name', 'Method']\n",
    "type_finish2.columns = ['Name', 'Method']\n",
    "\n",
    "methods = pd.concat([type_finish1,type_finish2])\n",
    "\n",
    "methods = methods.loc[(methods['Method'] != 'Split') ]\n",
    "methods = methods.loc[(methods['Method'] != 'Unanimous')]\n",
    "methods = DataFrame(Counter(methods.Method).most_common(10),columns=[\"Finish_Move\", \"Count\"])\n",
    "methods = methods.pivot_table(index='Finish_Move')\n",
    "p_method= methods.div(methods.sum(0),1)"
   ]
  },
  {
   "cell_type": "code",
   "execution_count": 204,
   "metadata": {},
   "outputs": [
    {
     "data": {
      "text/plain": [
       "<matplotlib.text.Text at 0x120e08fd0>"
      ]
     },
     "execution_count": 204,
     "metadata": {},
     "output_type": "execute_result"
    },
    {
     "data": {
      "image/png": "[encoded data removed]",
      "text/plain": [
       "<matplotlib.figure.Figure at 0x120e0bd10>"
      ]
     },
     "metadata": {},
     "output_type": "display_data"
    }
   ],
   "source": [
    "p_method.plot(kind='barh',ylim=(0.0,max(p_method.Count)+.05),color='red')\n",
    "plt.ylabel('Finish')\n",
    "plt.title('Fight Finish Methods')"
   ]
  },
  {
   "cell_type": "markdown",
   "metadata": {},
   "source": [
    "# Which submissions are most effective?"
   ]
  },
  {
   "cell_type": "code",
   "execution_count": 205,
   "metadata": {},
   "outputs": [
    {
     "data": {
      "text/plain": [
       "<matplotlib.text.Text at 0x12295d990>"
      ]
     },
     "execution_count": 205,
     "metadata": {},
     "output_type": "execute_result"
    },
    {
     "data": {
      "image/png": "[encoded data removed]",
      "text/plain": [
       "<matplotlib.figure.Figure at 0x122700d50>"
      ]
     },
     "metadata": {},
     "output_type": "display_data"
    }
   ],
   "source": [
    "submissions = fights.loc[fights['method'] == 'Submission']['method_d']\n",
    "submissions = DataFrame(Counter(submissions).most_common(15), columns= ['Submission Type', 'Count'])\n",
    "submissions.pivot_table(index = 'Submission Type').plot(kind='barh')\n",
    "plt.title('Top 15 Submissions')"
   ]
  },
  {
   "cell_type": "markdown",
   "metadata": {},
   "source": [
    "# As the rounds progress which methods increase in likelyhood to win?"
   ]
  },
  {
   "cell_type": "code",
   "execution_count": 207,
   "metadata": {},
   "outputs": [],
   "source": [
    "finish_method_by_round = pd.crosstab(fights['round'], fights['method'])\n",
    "\n",
    "finish_method_by_round.drop('NC',axis=1, inplace=True)"
   ]
  },
  {
   "cell_type": "code",
   "execution_count": 208,
   "metadata": {},
   "outputs": [
    {
     "data": {
      "text/plain": [
       "<matplotlib.text.Text at 0x122e71910>"
      ]
     },
     "execution_count": 208,
     "metadata": {},
     "output_type": "execute_result"
    },
    {
     "data": {
      "image/png": "[encoded data removed]",
      "text/plain": [
       "<matplotlib.figure.Figure at 0x120e08750>"
      ]
     },
     "metadata": {},
     "output_type": "display_data"
    }
   ],
   "source": [
    "finish_method_by_round.plot(kind='bar',stacked=True)\n",
    "plt.title(\"Finishes by Round\")"
   ]
  },
  {
   "cell_type": "markdown",
   "metadata": {},
   "source": [
    "Here I realized that I made the mistake of thinking these were all 5 round fights, but the overwhelming amount of decisions for round 3 means that there is a mix of 5 round fights and 3 round fights. Without data I can use that can tell me which of these fights are 5 round fights further analysis cannot be done. \n",
    "\n",
    "However the data shows that there are only a handful of 5 round fights which is true since most of these fights are title fights. An interesting observation is that round 4 is a round with very significantly less amount of finishes. This could be as a result of fighters \"gassing out\" or preserving energy for the last round.\n",
    "\n",
    "Further examination into round 3 shows that for fights that go into the third round decision is the most likely outcome. \n",
    "\n",
    "The earlier rounds are rounds in which one is to see a fighter being knockout, submitted, or TKO'd."
   ]
  },
  {
   "cell_type": "code",
   "execution_count": 209,
   "metadata": {
    "collapsed": true
   },
   "outputs": [],
   "source": [
    "fighter = pd.read_csv(\"/Users/earleaguilar/DataSets/ALL_UFC_FIGHTERS_(2-23-2016)_SHERDOG.COM_Sheet1.csv\")"
   ]
  },
  {
   "cell_type": "code",
   "execution_count": 210,
   "metadata": {
    "collapsed": true
   },
   "outputs": [],
   "source": [
    "wins1 = fights[fights[\"f1result\"] == 'win'].copy()\n",
    "\n",
    "drop_list1 = ['eid','mid', 'event_org','f2name','f2result','f1fid','f2fid']\n",
    "wins1.drop(drop_list1,axis=1,inplace=True)\n",
    "\n",
    "known_fighters = wins1[wins1.f1name.isin(fighter.name)]"
   ]
  },
  {
   "cell_type": "code",
   "execution_count": 211,
   "metadata": {
    "collapsed": true
   },
   "outputs": [],
   "source": [
    "big_ufc_dat = known_fighters.merge(fighter, left_on=\"f1name\", right_on='name')\n",
    "big_ufc_dat.drop([\"f1name\",'fid','nick','url'], axis=1,inplace=True)"
   ]
  },
  {
   "cell_type": "markdown",
   "metadata": {},
   "source": [
    "# Which gyms have more wins in the UFC?"
   ]
  },
  {
   "cell_type": "code",
   "execution_count": 212,
   "metadata": {},
   "outputs": [
    {
     "data": {
      "text/html": [
       "<div>\n",
       "<style>\n",
       "    .dataframe thead tr:only-child th {\n",
       "        text-align: right;\n",
       "    }\n",
       "\n",
       "    .dataframe thead th {\n",
       "        text-align: left;\n",
       "    }\n",
       "\n",
       "    .dataframe tbody tr th {\n",
       "        vertical-align: top;\n",
       "    }\n",
       "</style>\n",
       "<table border=\"1\" class=\"dataframe\">\n",
       "  <thead>\n",
       "    <tr style=\"text-align: right;\">\n",
       "      <th>f1result</th>\n",
       "      <th>win</th>\n",
       "    </tr>\n",
       "    <tr>\n",
       "      <th>association</th>\n",
       "      <th></th>\n",
       "    </tr>\n",
       "  </thead>\n",
       "  <tbody>\n",
       "    <tr>\n",
       "      <th>American Top Team</th>\n",
       "      <td>215</td>\n",
       "    </tr>\n",
       "    <tr>\n",
       "      <th>Jackson-Wink MMA</th>\n",
       "      <td>159</td>\n",
       "    </tr>\n",
       "    <tr>\n",
       "      <th>Blackzilians</th>\n",
       "      <td>82</td>\n",
       "    </tr>\n",
       "    <tr>\n",
       "      <th>American Kickboxing Academy</th>\n",
       "      <td>76</td>\n",
       "    </tr>\n",
       "    <tr>\n",
       "      <th>Tristar Gym</th>\n",
       "      <td>71</td>\n",
       "    </tr>\n",
       "    <tr>\n",
       "      <th>Xtreme Couture</th>\n",
       "      <td>71</td>\n",
       "    </tr>\n",
       "    <tr>\n",
       "      <th>Alliance MMA</th>\n",
       "      <td>70</td>\n",
       "    </tr>\n",
       "    <tr>\n",
       "      <th>Nova Uniao</th>\n",
       "      <td>67</td>\n",
       "    </tr>\n",
       "    <tr>\n",
       "      <th>MMA Lab</th>\n",
       "      <td>51</td>\n",
       "    </tr>\n",
       "    <tr>\n",
       "      <th>Team Nogueira</th>\n",
       "      <td>48</td>\n",
       "    </tr>\n",
       "  </tbody>\n",
       "</table>\n",
       "</div>"
      ],
      "text/plain": [
       "f1result                     win\n",
       "association                     \n",
       "American Top Team            215\n",
       "Jackson-Wink MMA             159\n",
       "Blackzilians                  82\n",
       "American Kickboxing Academy   76\n",
       "Tristar Gym                   71\n",
       "Xtreme Couture                71\n",
       "Alliance MMA                  70\n",
       "Nova Uniao                    67\n",
       "MMA Lab                       51\n",
       "Team Nogueira                 48"
      ]
     },
     "execution_count": 212,
     "metadata": {},
     "output_type": "execute_result"
    }
   ],
   "source": [
    "pd.crosstab(big_ufc_dat['association'], big_ufc_dat['f1result']).sort_values('win',ascending=False).head(10)"
   ]
  },
  {
   "cell_type": "markdown",
   "metadata": {},
   "source": [
    "# What type of weightclass do the top gyms tend to condition better?"
   ]
  },
  {
   "cell_type": "code",
   "execution_count": 213,
   "metadata": {
    "collapsed": true
   },
   "outputs": [],
   "source": [
    "wc  =big_ufc_dat['f1result'].groupby([big_ufc_dat['association'],big_ufc_dat['class']]).count()"
   ]
  },
  {
   "cell_type": "code",
   "execution_count": 214,
   "metadata": {
    "collapsed": true
   },
   "outputs": [],
   "source": [
    "wc = wc.unstack().fillna(0)\n",
    "top_gyms = ['American Top Team', 'Jackson-Wink MMA','Blackzilians','American Kickboxing Academy','Tristar Gym',\n",
    "           'Xtreme Couture','Alliance MMA','Nova Uniao','MMA Lab','Team Nogueira']\n",
    "wc = wc.loc[top_gyms]"
   ]
  },
  {
   "cell_type": "code",
   "execution_count": 223,
   "metadata": {
    "scrolled": true
   },
   "outputs": [
    {
     "data": {
      "text/plain": [
       "<matplotlib.text.Text at 0x124fdeb10>"
      ]
     },
     "execution_count": 223,
     "metadata": {},
     "output_type": "execute_result"
    },
    {
     "data": {
      "text/plain": [
       "<matplotlib.figure.Figure at 0x124331dd0>"
      ]
     },
     "metadata": {},
     "output_type": "display_data"
    },
    {
     "data": {
      "image/png": "[encoded data removed]",
      "text/plain": [
       "<matplotlib.figure.Figure at 0x123aad650>"
      ]
     },
     "metadata": {},
     "output_type": "display_data"
    }
   ],
   "source": [
    "wc.plot(kind='bar',cmap='viridis',figsize=(20,5))\n",
    "plt.legend(loc='center left', bbox_to_anchor=(1.0, 0.5))\n",
    "plt.title('Fighter Weightclass Conditioning by Gym')"
   ]
  },
  {
   "cell_type": "markdown",
   "metadata": {},
   "source": [
    "# What type of fighter do top gyms tend to create? i.e knockout artist, submission artist, wrestler types.\n",
    "\n"
   ]
  },
  {
   "cell_type": "code",
   "execution_count": 216,
   "metadata": {
    "collapsed": true
   },
   "outputs": [],
   "source": [
    "test = pd.crosstab(big_ufc_dat['association'], big_ufc_dat['method'])"
   ]
  },
  {
   "cell_type": "code",
   "execution_count": 217,
   "metadata": {
    "collapsed": true
   },
   "outputs": [],
   "source": [
    "test = test.loc[top_gyms]"
   ]
  },
  {
   "cell_type": "code",
   "execution_count": 218,
   "metadata": {},
   "outputs": [
    {
     "data": {
      "text/plain": [
       "<matplotlib.axes._subplots.AxesSubplot at 0x123621ed0>"
      ]
     },
     "execution_count": 218,
     "metadata": {},
     "output_type": "execute_result"
    },
    {
     "data": {
      "image/png": "[encoded data removed]",
      "text/plain": [
       "<matplotlib.figure.Figure at 0x12113cc90>"
      ]
     },
     "metadata": {},
     "output_type": "display_data"
    }
   ],
   "source": [
    "test.loc[top_gyms].plot(rot=90, kind='bar', figsize=(10,5),stacked=True)"
   ]
  },
  {
   "cell_type": "markdown",
   "metadata": {},
   "source": [
    "# Which countries have more winning fighters?"
   ]
  },
  {
   "cell_type": "code",
   "execution_count": 219,
   "metadata": {},
   "outputs": [
    {
     "data": {
      "text/html": [
       "<div>\n",
       "<style>\n",
       "    .dataframe thead tr:only-child th {\n",
       "        text-align: right;\n",
       "    }\n",
       "\n",
       "    .dataframe thead th {\n",
       "        text-align: left;\n",
       "    }\n",
       "\n",
       "    .dataframe tbody tr th {\n",
       "        vertical-align: top;\n",
       "    }\n",
       "</style>\n",
       "<table border=\"1\" class=\"dataframe\">\n",
       "  <thead>\n",
       "    <tr style=\"text-align: right;\">\n",
       "      <th>f1result</th>\n",
       "      <th>win</th>\n",
       "    </tr>\n",
       "    <tr>\n",
       "      <th>country</th>\n",
       "      <th></th>\n",
       "    </tr>\n",
       "  </thead>\n",
       "  <tbody>\n",
       "    <tr>\n",
       "      <th>United States</th>\n",
       "      <td>2172</td>\n",
       "    </tr>\n",
       "    <tr>\n",
       "      <th>Brazil</th>\n",
       "      <td>584</td>\n",
       "    </tr>\n",
       "    <tr>\n",
       "      <th>Canada</th>\n",
       "      <td>195</td>\n",
       "    </tr>\n",
       "    <tr>\n",
       "      <th>England</th>\n",
       "      <td>110</td>\n",
       "    </tr>\n",
       "    <tr>\n",
       "      <th>Japan</th>\n",
       "      <td>73</td>\n",
       "    </tr>\n",
       "    <tr>\n",
       "      <th>Russia</th>\n",
       "      <td>52</td>\n",
       "    </tr>\n",
       "    <tr>\n",
       "      <th>Australia</th>\n",
       "      <td>49</td>\n",
       "    </tr>\n",
       "    <tr>\n",
       "      <th>South Korea</th>\n",
       "      <td>28</td>\n",
       "    </tr>\n",
       "    <tr>\n",
       "      <th>Netherlands</th>\n",
       "      <td>28</td>\n",
       "    </tr>\n",
       "    <tr>\n",
       "      <th>Sweden</th>\n",
       "      <td>28</td>\n",
       "    </tr>\n",
       "  </tbody>\n",
       "</table>\n",
       "</div>"
      ],
      "text/plain": [
       "f1result        win\n",
       "country            \n",
       "United States  2172\n",
       "Brazil          584\n",
       "Canada          195\n",
       "England         110\n",
       "Japan            73\n",
       "Russia           52\n",
       "Australia        49\n",
       "South Korea      28\n",
       "Netherlands      28\n",
       "Sweden           28"
      ]
     },
     "execution_count": 219,
     "metadata": {},
     "output_type": "execute_result"
    }
   ],
   "source": [
    "pd.crosstab(big_ufc_dat['country'],big_ufc_dat['f1result']).sort_values('win',ascending=False).head(10)"
   ]
  }
 ],
 "metadata": {
  "kernelspec": {
   "display_name": "Python 2",
   "language": "python",
   "name": "python2"
  },
  "language_info": {
   "codemirror_mode": {
    "name": "ipython",
    "version": 2
   },
   "file_extension": ".py",
   "mimetype": "text/x-python",
   "name": "python",
   "nbconvert_exporter": "python",
   "pygments_lexer": "ipython2",
   "version": "2.7.13"
  }
 },
 "nbformat": 4,
 "nbformat_minor": 2
}
