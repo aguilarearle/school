{
 "cells": [
  {
   "cell_type": "code",
   "execution_count": 1,
   "metadata": {
    "collapsed": true
   },
   "outputs": [],
   "source": [
    "import numpy as np\n",
    "import pandas as pd\n",
    "\n",
    "from pandas import Series, DataFrame\n",
    "\n",
    "import seaborn as sns\n",
    "\n",
    "import matplotlib.pyplot as plt\n",
    "\n",
    "%matplotlib inline\n",
    "\n",
    "from __future__ import division\n",
    "\n",
    "from collections import Counter"
   ]
  },
  {
   "cell_type": "markdown",
   "metadata": {},
   "source": [
    "Here we analyze data from the UFC. Some of the question that we will try to answer are:\n",
    "\n",
    "1. Who are the fighters with the most amount of wins?\n",
    "\n",
    "2. What are the most common ways fights end?\n",
    "\n",
    "3. How do these top fighters win?\n",
    "\n",
    "4. For fights that do not go to decision, what are the main methods used to win the fight?\n",
    "\n",
    "5. Which submissions are most effective?\n",
    "\n",
    "6. Which TKOs are more effective?\n",
    "\n",
    "7. As the rounds progress which methods increase in likelyhood to win?\n",
    "\n",
    "8. Within rounds which methods are most effective in finishing fights?"
   ]
  },
  {
   "cell_type": "code",
   "execution_count": 2,
   "metadata": {
    "collapsed": true
   },
   "outputs": [],
   "source": [
    "fights = pd.read_csv(\"/Users/earleaguilar/DataSets/ALL_UFC_FIGHTS_(2-23-2016)_SHERDOG.COM_Sheet1.csv\")\n"
   ]
  },
  {
   "cell_type": "code",
   "execution_count": 3,
   "metadata": {
    "collapsed": true
   },
   "outputs": [],
   "source": [
    "fights = fights.drop([\"pageurl\",\"f1pageurl\",\"f2pageurl\"],1)"
   ]
  },
  {
   "cell_type": "code",
   "execution_count": 4,
   "metadata": {},
   "outputs": [
    {
     "name": "stdout",
     "output_type": "stream",
     "text": [
      "<class 'pandas.core.frame.DataFrame'>\n",
      "RangeIndex: 3569 entries, 0 to 3568\n",
      "Data columns (total 17 columns):\n",
      "eid            3569 non-null int64\n",
      "mid            3569 non-null int64\n",
      "event_name     3569 non-null object\n",
      "event_org      3569 non-null object\n",
      "event_date     3569 non-null object\n",
      "event_place    3569 non-null object\n",
      "f1name         3569 non-null object\n",
      "f2name         3569 non-null object\n",
      "f1result       3569 non-null object\n",
      "f2result       3569 non-null object\n",
      "f1fid          3569 non-null int64\n",
      "f2fid          3569 non-null int64\n",
      "method         3569 non-null object\n",
      "method_d       3549 non-null object\n",
      "ref            3248 non-null object\n",
      "round          3569 non-null int64\n",
      "time           3568 non-null object\n",
      "dtypes: int64(5), object(12)\n",
      "memory usage: 474.1+ KB\n"
     ]
    }
   ],
   "source": [
    "fights.info()"
   ]
  },
  {
   "cell_type": "code",
   "execution_count": 5,
   "metadata": {},
   "outputs": [
    {
     "data": {
      "text/html": [
       "<div>\n",
       "<style>\n",
       "    .dataframe thead tr:only-child th {\n",
       "        text-align: right;\n",
       "    }\n",
       "\n",
       "    .dataframe thead th {\n",
       "        text-align: left;\n",
       "    }\n",
       "\n",
       "    .dataframe tbody tr th {\n",
       "        vertical-align: top;\n",
       "    }\n",
       "</style>\n",
       "<table border=\"1\" class=\"dataframe\">\n",
       "  <thead>\n",
       "    <tr style=\"text-align: right;\">\n",
       "      <th></th>\n",
       "      <th>eid</th>\n",
       "      <th>mid</th>\n",
       "      <th>event_name</th>\n",
       "      <th>event_org</th>\n",
       "      <th>event_date</th>\n",
       "      <th>event_place</th>\n",
       "      <th>f1name</th>\n",
       "      <th>f2name</th>\n",
       "      <th>f1result</th>\n",
       "      <th>f2result</th>\n",
       "      <th>f1fid</th>\n",
       "      <th>f2fid</th>\n",
       "      <th>method</th>\n",
       "      <th>method_d</th>\n",
       "      <th>ref</th>\n",
       "      <th>round</th>\n",
       "      <th>time</th>\n",
       "    </tr>\n",
       "  </thead>\n",
       "  <tbody>\n",
       "    <tr>\n",
       "      <th>0</th>\n",
       "      <td>7</td>\n",
       "      <td>8</td>\n",
       "      <td>UFC 1 - The Beginning</td>\n",
       "      <td>Ultimate Fighting Championship</td>\n",
       "      <td>11/12/1993</td>\n",
       "      <td>McNichols Arena, Denver, Colorado, United States</td>\n",
       "      <td>Royce Gracie</td>\n",
       "      <td>Gerard Gordeau</td>\n",
       "      <td>win</td>\n",
       "      <td>loss</td>\n",
       "      <td>19</td>\n",
       "      <td>15</td>\n",
       "      <td>Submission</td>\n",
       "      <td>Rear-Naked Choke</td>\n",
       "      <td>Helio Vigio</td>\n",
       "      <td>1</td>\n",
       "      <td>1:44</td>\n",
       "    </tr>\n",
       "    <tr>\n",
       "      <th>1</th>\n",
       "      <td>7</td>\n",
       "      <td>7</td>\n",
       "      <td>UFC 1 - The Beginning</td>\n",
       "      <td>Ultimate Fighting Championship</td>\n",
       "      <td>11/12/1993</td>\n",
       "      <td>McNichols Arena, Denver, Colorado, United States</td>\n",
       "      <td>Jason DeLucia</td>\n",
       "      <td>Trent Jenkins</td>\n",
       "      <td>win</td>\n",
       "      <td>loss</td>\n",
       "      <td>22</td>\n",
       "      <td>23</td>\n",
       "      <td>Submission</td>\n",
       "      <td>Rear-Naked Choke</td>\n",
       "      <td>Joao Alberto Barreto</td>\n",
       "      <td>1</td>\n",
       "      <td>0:52</td>\n",
       "    </tr>\n",
       "    <tr>\n",
       "      <th>2</th>\n",
       "      <td>7</td>\n",
       "      <td>6</td>\n",
       "      <td>UFC 1 - The Beginning</td>\n",
       "      <td>Ultimate Fighting Championship</td>\n",
       "      <td>11/12/1993</td>\n",
       "      <td>McNichols Arena, Denver, Colorado, United States</td>\n",
       "      <td>Royce Gracie</td>\n",
       "      <td>Ken Shamrock</td>\n",
       "      <td>win</td>\n",
       "      <td>loss</td>\n",
       "      <td>19</td>\n",
       "      <td>4</td>\n",
       "      <td>Submission</td>\n",
       "      <td>Rear-Naked Choke</td>\n",
       "      <td>Helio Vigio</td>\n",
       "      <td>1</td>\n",
       "      <td>0:57</td>\n",
       "    </tr>\n",
       "    <tr>\n",
       "      <th>3</th>\n",
       "      <td>7</td>\n",
       "      <td>5</td>\n",
       "      <td>UFC 1 - The Beginning</td>\n",
       "      <td>Ultimate Fighting Championship</td>\n",
       "      <td>11/12/1993</td>\n",
       "      <td>McNichols Arena, Denver, Colorado, United States</td>\n",
       "      <td>Gerard Gordeau</td>\n",
       "      <td>Kevin Rosier</td>\n",
       "      <td>win</td>\n",
       "      <td>loss</td>\n",
       "      <td>15</td>\n",
       "      <td>17</td>\n",
       "      <td>TKO</td>\n",
       "      <td>Corner Stoppage</td>\n",
       "      <td>Joao Alberto Barreto</td>\n",
       "      <td>1</td>\n",
       "      <td>0:59</td>\n",
       "    </tr>\n",
       "    <tr>\n",
       "      <th>4</th>\n",
       "      <td>7</td>\n",
       "      <td>4</td>\n",
       "      <td>UFC 1 - The Beginning</td>\n",
       "      <td>Ultimate Fighting Championship</td>\n",
       "      <td>11/12/1993</td>\n",
       "      <td>McNichols Arena, Denver, Colorado, United States</td>\n",
       "      <td>Ken Shamrock</td>\n",
       "      <td>Patrick Smith</td>\n",
       "      <td>win</td>\n",
       "      <td>loss</td>\n",
       "      <td>4</td>\n",
       "      <td>21</td>\n",
       "      <td>Submission</td>\n",
       "      <td>Heel Hook</td>\n",
       "      <td>Helio Vigio</td>\n",
       "      <td>1</td>\n",
       "      <td>1:49</td>\n",
       "    </tr>\n",
       "  </tbody>\n",
       "</table>\n",
       "</div>"
      ],
      "text/plain": [
       "   eid  mid             event_name                       event_org  \\\n",
       "0    7    8  UFC 1 - The Beginning  Ultimate Fighting Championship   \n",
       "1    7    7  UFC 1 - The Beginning  Ultimate Fighting Championship   \n",
       "2    7    6  UFC 1 - The Beginning  Ultimate Fighting Championship   \n",
       "3    7    5  UFC 1 - The Beginning  Ultimate Fighting Championship   \n",
       "4    7    4  UFC 1 - The Beginning  Ultimate Fighting Championship   \n",
       "\n",
       "   event_date                                       event_place  \\\n",
       "0  11/12/1993  McNichols Arena, Denver, Colorado, United States   \n",
       "1  11/12/1993  McNichols Arena, Denver, Colorado, United States   \n",
       "2  11/12/1993  McNichols Arena, Denver, Colorado, United States   \n",
       "3  11/12/1993  McNichols Arena, Denver, Colorado, United States   \n",
       "4  11/12/1993  McNichols Arena, Denver, Colorado, United States   \n",
       "\n",
       "           f1name          f2name f1result f2result  f1fid  f2fid      method  \\\n",
       "0    Royce Gracie  Gerard Gordeau      win     loss     19     15  Submission   \n",
       "1   Jason DeLucia   Trent Jenkins      win     loss     22     23  Submission   \n",
       "2    Royce Gracie    Ken Shamrock      win     loss     19      4  Submission   \n",
       "3  Gerard Gordeau    Kevin Rosier      win     loss     15     17         TKO   \n",
       "4    Ken Shamrock   Patrick Smith      win     loss      4     21  Submission   \n",
       "\n",
       "           method_d                   ref  round  time  \n",
       "0  Rear-Naked Choke           Helio Vigio      1  1:44  \n",
       "1  Rear-Naked Choke  Joao Alberto Barreto      1  0:52  \n",
       "2  Rear-Naked Choke           Helio Vigio      1  0:57  \n",
       "3   Corner Stoppage  Joao Alberto Barreto      1  0:59  \n",
       "4         Heel Hook           Helio Vigio      1  1:49  "
      ]
     },
     "execution_count": 5,
     "metadata": {},
     "output_type": "execute_result"
    }
   ],
   "source": [
    "fights.head()"
   ]
  },
  {
   "cell_type": "markdown",
   "metadata": {},
   "source": [
    "## Who were the fighters with the most amount of wins?"
   ]
  },
  {
   "cell_type": "code",
   "execution_count": 6,
   "metadata": {
    "collapsed": true
   },
   "outputs": [],
   "source": [
    "res1 = fights[\"f1result\"].groupby([fights[\"f1name\"]])\n",
    "res2 = fights[\"f2result\"].groupby([fights[\"f2name\"]])"
   ]
  },
  {
   "cell_type": "code",
   "execution_count": 7,
   "metadata": {
    "collapsed": true
   },
   "outputs": [],
   "source": [
    "res1 = res1.value_counts().unstack()\n",
    "\n",
    "res2 = res2.value_counts().unstack()\n",
    "\n",
    "tot_res = res1.combine_first(res2)\n",
    "\n",
    "tot_res.fillna(0, inplace=True)"
   ]
  },
  {
   "cell_type": "code",
   "execution_count": 8,
   "metadata": {},
   "outputs": [
    {
     "data": {
      "text/html": [
       "<div>\n",
       "<style>\n",
       "    .dataframe thead tr:only-child th {\n",
       "        text-align: right;\n",
       "    }\n",
       "\n",
       "    .dataframe thead th {\n",
       "        text-align: left;\n",
       "    }\n",
       "\n",
       "    .dataframe tbody tr th {\n",
       "        vertical-align: top;\n",
       "    }\n",
       "</style>\n",
       "<table border=\"1\" class=\"dataframe\">\n",
       "  <thead>\n",
       "    <tr style=\"text-align: right;\">\n",
       "      <th></th>\n",
       "      <th>NC</th>\n",
       "      <th>draw</th>\n",
       "      <th>loss</th>\n",
       "      <th>win</th>\n",
       "    </tr>\n",
       "  </thead>\n",
       "  <tbody>\n",
       "    <tr>\n",
       "      <th>Aaron Brink</th>\n",
       "      <td>0.0</td>\n",
       "      <td>0.0</td>\n",
       "      <td>1.0</td>\n",
       "      <td>0.0</td>\n",
       "    </tr>\n",
       "    <tr>\n",
       "      <th>Aaron Phillips</th>\n",
       "      <td>0.0</td>\n",
       "      <td>0.0</td>\n",
       "      <td>2.0</td>\n",
       "      <td>0.0</td>\n",
       "    </tr>\n",
       "    <tr>\n",
       "      <th>Aaron Riley</th>\n",
       "      <td>0.0</td>\n",
       "      <td>0.0</td>\n",
       "      <td>6.0</td>\n",
       "      <td>3.0</td>\n",
       "    </tr>\n",
       "    <tr>\n",
       "      <th>Aaron Rosa</th>\n",
       "      <td>0.0</td>\n",
       "      <td>0.0</td>\n",
       "      <td>2.0</td>\n",
       "      <td>1.0</td>\n",
       "    </tr>\n",
       "    <tr>\n",
       "      <th>Aaron Simpson</th>\n",
       "      <td>0.0</td>\n",
       "      <td>0.0</td>\n",
       "      <td>4.0</td>\n",
       "      <td>7.0</td>\n",
       "    </tr>\n",
       "  </tbody>\n",
       "</table>\n",
       "</div>"
      ],
      "text/plain": [
       "                 NC  draw  loss  win\n",
       "Aaron Brink     0.0   0.0   1.0  0.0\n",
       "Aaron Phillips  0.0   0.0   2.0  0.0\n",
       "Aaron Riley     0.0   0.0   6.0  3.0\n",
       "Aaron Rosa      0.0   0.0   2.0  1.0\n",
       "Aaron Simpson   0.0   0.0   4.0  7.0"
      ]
     },
     "execution_count": 8,
     "metadata": {},
     "output_type": "execute_result"
    }
   ],
   "source": [
    "tot_res = DataFrame(tot_res)\n",
    "tot_res.head()"
   ]
  },
  {
   "cell_type": "code",
   "execution_count": 9,
   "metadata": {},
   "outputs": [
    {
     "data": {
      "text/html": [
       "<div>\n",
       "<style>\n",
       "    .dataframe thead tr:only-child th {\n",
       "        text-align: right;\n",
       "    }\n",
       "\n",
       "    .dataframe thead th {\n",
       "        text-align: left;\n",
       "    }\n",
       "\n",
       "    .dataframe tbody tr th {\n",
       "        vertical-align: top;\n",
       "    }\n",
       "</style>\n",
       "<table border=\"1\" class=\"dataframe\">\n",
       "  <thead>\n",
       "    <tr style=\"text-align: right;\">\n",
       "      <th></th>\n",
       "      <th>NC</th>\n",
       "      <th>draw</th>\n",
       "      <th>loss</th>\n",
       "      <th>win</th>\n",
       "    </tr>\n",
       "  </thead>\n",
       "  <tbody>\n",
       "    <tr>\n",
       "      <th>Georges St. Pierre</th>\n",
       "      <td>0.0</td>\n",
       "      <td>0.0</td>\n",
       "      <td>2.0</td>\n",
       "      <td>19.0</td>\n",
       "    </tr>\n",
       "    <tr>\n",
       "      <th>Matt Hughes</th>\n",
       "      <td>0.0</td>\n",
       "      <td>0.0</td>\n",
       "      <td>7.0</td>\n",
       "      <td>18.0</td>\n",
       "    </tr>\n",
       "    <tr>\n",
       "      <th>Michael Bisping</th>\n",
       "      <td>0.0</td>\n",
       "      <td>0.0</td>\n",
       "      <td>7.0</td>\n",
       "      <td>17.0</td>\n",
       "    </tr>\n",
       "    <tr>\n",
       "      <th>Gleison Tibau</th>\n",
       "      <td>0.0</td>\n",
       "      <td>0.0</td>\n",
       "      <td>9.0</td>\n",
       "      <td>17.0</td>\n",
       "    </tr>\n",
       "    <tr>\n",
       "      <th>Frank Mir</th>\n",
       "      <td>0.0</td>\n",
       "      <td>0.0</td>\n",
       "      <td>10.0</td>\n",
       "      <td>16.0</td>\n",
       "    </tr>\n",
       "    <tr>\n",
       "      <th>Donald Cerrone</th>\n",
       "      <td>0.0</td>\n",
       "      <td>0.0</td>\n",
       "      <td>4.0</td>\n",
       "      <td>16.0</td>\n",
       "    </tr>\n",
       "    <tr>\n",
       "      <th>Chuck Liddell</th>\n",
       "      <td>0.0</td>\n",
       "      <td>0.0</td>\n",
       "      <td>7.0</td>\n",
       "      <td>16.0</td>\n",
       "    </tr>\n",
       "    <tr>\n",
       "      <th>Anderson Silva</th>\n",
       "      <td>1.0</td>\n",
       "      <td>0.0</td>\n",
       "      <td>2.0</td>\n",
       "      <td>16.0</td>\n",
       "    </tr>\n",
       "    <tr>\n",
       "      <th>Demian Maia</th>\n",
       "      <td>0.0</td>\n",
       "      <td>0.0</td>\n",
       "      <td>6.0</td>\n",
       "      <td>16.0</td>\n",
       "    </tr>\n",
       "    <tr>\n",
       "      <th>Randy Couture</th>\n",
       "      <td>0.0</td>\n",
       "      <td>0.0</td>\n",
       "      <td>8.0</td>\n",
       "      <td>15.0</td>\n",
       "    </tr>\n",
       "  </tbody>\n",
       "</table>\n",
       "</div>"
      ],
      "text/plain": [
       "                     NC  draw  loss   win\n",
       "Georges St. Pierre  0.0   0.0   2.0  19.0\n",
       "Matt Hughes         0.0   0.0   7.0  18.0\n",
       "Michael Bisping     0.0   0.0   7.0  17.0\n",
       "Gleison Tibau       0.0   0.0   9.0  17.0\n",
       "Frank Mir           0.0   0.0  10.0  16.0\n",
       "Donald Cerrone      0.0   0.0   4.0  16.0\n",
       "Chuck Liddell       0.0   0.0   7.0  16.0\n",
       "Anderson Silva      1.0   0.0   2.0  16.0\n",
       "Demian Maia         0.0   0.0   6.0  16.0\n",
       "Randy Couture       0.0   0.0   8.0  15.0"
      ]
     },
     "execution_count": 9,
     "metadata": {},
     "output_type": "execute_result"
    }
   ],
   "source": [
    "top_ten_f = tot_res.sort_values('win',ascending=False).head(n=10)\n",
    "top_ten_f"
   ]
  },
  {
   "cell_type": "code",
   "execution_count": 10,
   "metadata": {},
   "outputs": [
    {
     "data": {
      "text/html": [
       "<div>\n",
       "<style>\n",
       "    .dataframe thead tr:only-child th {\n",
       "        text-align: right;\n",
       "    }\n",
       "\n",
       "    .dataframe thead th {\n",
       "        text-align: left;\n",
       "    }\n",
       "\n",
       "    .dataframe tbody tr th {\n",
       "        vertical-align: top;\n",
       "    }\n",
       "</style>\n",
       "<table border=\"1\" class=\"dataframe\">\n",
       "  <thead>\n",
       "    <tr style=\"text-align: right;\">\n",
       "      <th></th>\n",
       "      <th>NC</th>\n",
       "      <th>draw</th>\n",
       "      <th>loss</th>\n",
       "      <th>win</th>\n",
       "    </tr>\n",
       "  </thead>\n",
       "  <tbody>\n",
       "    <tr>\n",
       "      <th>count</th>\n",
       "      <td>10.000000</td>\n",
       "      <td>10.0</td>\n",
       "      <td>10.000000</td>\n",
       "      <td>10.000000</td>\n",
       "    </tr>\n",
       "    <tr>\n",
       "      <th>mean</th>\n",
       "      <td>0.100000</td>\n",
       "      <td>0.0</td>\n",
       "      <td>6.200000</td>\n",
       "      <td>16.600000</td>\n",
       "    </tr>\n",
       "    <tr>\n",
       "      <th>std</th>\n",
       "      <td>0.316228</td>\n",
       "      <td>0.0</td>\n",
       "      <td>2.740641</td>\n",
       "      <td>1.173788</td>\n",
       "    </tr>\n",
       "    <tr>\n",
       "      <th>min</th>\n",
       "      <td>0.000000</td>\n",
       "      <td>0.0</td>\n",
       "      <td>2.000000</td>\n",
       "      <td>15.000000</td>\n",
       "    </tr>\n",
       "    <tr>\n",
       "      <th>25%</th>\n",
       "      <td>0.000000</td>\n",
       "      <td>0.0</td>\n",
       "      <td>4.500000</td>\n",
       "      <td>16.000000</td>\n",
       "    </tr>\n",
       "    <tr>\n",
       "      <th>50%</th>\n",
       "      <td>0.000000</td>\n",
       "      <td>0.0</td>\n",
       "      <td>7.000000</td>\n",
       "      <td>16.000000</td>\n",
       "    </tr>\n",
       "    <tr>\n",
       "      <th>75%</th>\n",
       "      <td>0.000000</td>\n",
       "      <td>0.0</td>\n",
       "      <td>7.750000</td>\n",
       "      <td>17.000000</td>\n",
       "    </tr>\n",
       "    <tr>\n",
       "      <th>max</th>\n",
       "      <td>1.000000</td>\n",
       "      <td>0.0</td>\n",
       "      <td>10.000000</td>\n",
       "      <td>19.000000</td>\n",
       "    </tr>\n",
       "  </tbody>\n",
       "</table>\n",
       "</div>"
      ],
      "text/plain": [
       "              NC  draw       loss        win\n",
       "count  10.000000  10.0  10.000000  10.000000\n",
       "mean    0.100000   0.0   6.200000  16.600000\n",
       "std     0.316228   0.0   2.740641   1.173788\n",
       "min     0.000000   0.0   2.000000  15.000000\n",
       "25%     0.000000   0.0   4.500000  16.000000\n",
       "50%     0.000000   0.0   7.000000  16.000000\n",
       "75%     0.000000   0.0   7.750000  17.000000\n",
       "max     1.000000   0.0  10.000000  19.000000"
      ]
     },
     "execution_count": 10,
     "metadata": {},
     "output_type": "execute_result"
    }
   ],
   "source": [
    "top_ten_f.describe()"
   ]
  },
  {
   "cell_type": "markdown",
   "metadata": {},
   "source": [
    "As we can see the top fighters all have more than 15 wins with the mean number of wins being 16 and the mean\n",
    "amount of losses being 6. Which puts Georges St. Pierre's record of 19 wins and 2 loses at two standard deviations above the mean for wins and one and a half standard deviations below the mean for losses."
   ]
  },
  {
   "cell_type": "markdown",
   "metadata": {},
   "source": [
    "# What are the most common ways fights end?"
   ]
  },
  {
   "cell_type": "code",
   "execution_count": 11,
   "metadata": {},
   "outputs": [
    {
     "data": {
      "text/plain": [
       "<matplotlib.axes._subplots.AxesSubplot at 0x11a7923d0>"
      ]
     },
     "execution_count": 11,
     "metadata": {},
     "output_type": "execute_result"
    },
    {
     "data": {
      "image/png": "[encoded data removed]",
      "text/plain": [
       "<matplotlib.figure.Figure at 0x11b257690>"
      ]
     },
     "metadata": {},
     "output_type": "display_data"
    }
   ],
   "source": [
    "finish1 = fights[fights[\"f1result\"] == 'win'][['f1name','method']]\n",
    "finish2 = fights[fights[\"f2result\"] == 'win'][['f2name','method']] \n",
    "\n",
    "finish1.columns = ['Name', 'Method']\n",
    "finish2.columns = ['Name', 'Method']\n",
    "\n",
    "fight_finish = pd.concat([finish1,finish2])\n",
    "\n",
    "fight_finish = DataFrame(Counter(fight_finish.Method).most_common(), columns=['Method', 'Count'])\n",
    "\n",
    "fight_finish.loc[fight_finish['Method'] == 'TKO','Count'] = fight_finish.loc[fight_finish['Method'] == 'Technical','Count'].values + fight_finish.loc[fight_finish['Method'] == 'TKO','Count'].values\n",
    "fight_finish = fight_finish[fight_finish['Method'] != 'Technical']\n",
    "#+ fight_finish.loc[fight_finish['Method'] == 'Technical','Count']\n",
    "#fight_finish.head()\n",
    "\n",
    "fight_finish = fight_finish.pivot_table(index='Method')\n",
    "fight_finish.sort_values('Count',ascending=False).plot(kind='bar')"
   ]
  },
  {
   "cell_type": "markdown",
   "metadata": {},
   "source": [
    "From the graph we can see that most fights end in a decision followed by a TKO, Submission, KO, and rarely does a fight end in a DQ"
   ]
  },
  {
   "cell_type": "markdown",
   "metadata": {},
   "source": [
    "# How do these top fighters win?"
   ]
  },
  {
   "cell_type": "code",
   "execution_count": 12,
   "metadata": {},
   "outputs": [
    {
     "data": {
      "text/plain": [
       "array(['Submission', 'TKO', 'KO', 'Draw', 'Decision', 'DQ', 'NC'], dtype=object)"
      ]
     },
     "execution_count": 12,
     "metadata": {},
     "output_type": "execute_result"
    }
   ],
   "source": [
    "# There are some \"No contest\" values that have descriptions on them but for the sake of analysis \n",
    "# I will convert them all to NC and since most NC occur post-fight I will ommit such fight results.\n",
    "\n",
    "fights.loc[fights['method'] == \"Technical\",'method'] = \"TKO\"\n",
    "fights.loc[fights['method'] == \"No Contest\",'method'] = \"NC\"\n",
    "fights.loc[fights['method'] == \"No\",'method'] = \"NC\"\n",
    "fights.loc[fights['method'] == \"No Contest - Hoffman Failed Drug Test\",'method'] = \"NC\"\n",
    "fights.loc[fights['method'] == \"No Contest - Overturned by State Commission\",'method'] = \"NC\"\n",
    "fights.loc[fights['method'] == \"No Contest - Caceres Failed Drug Test\",'method'] = \"NC\"\n",
    "fights.loc[fights['method'] == \"No Contest - Overturned by Commission\",'method'] = \"NC\"\n",
    "\n",
    "fights['method'].unique()"
   ]
  },
  {
   "cell_type": "code",
   "execution_count": 13,
   "metadata": {},
   "outputs": [
    {
     "data": {
      "text/html": [
       "<div>\n",
       "<style>\n",
       "    .dataframe thead tr:only-child th {\n",
       "        text-align: right;\n",
       "    }\n",
       "\n",
       "    .dataframe thead th {\n",
       "        text-align: left;\n",
       "    }\n",
       "\n",
       "    .dataframe tbody tr th {\n",
       "        vertical-align: top;\n",
       "    }\n",
       "</style>\n",
       "<table border=\"1\" class=\"dataframe\">\n",
       "  <thead>\n",
       "    <tr style=\"text-align: right;\">\n",
       "      <th></th>\n",
       "      <th>Name</th>\n",
       "      <th>Method</th>\n",
       "    </tr>\n",
       "  </thead>\n",
       "  <tbody>\n",
       "    <tr>\n",
       "      <th>0</th>\n",
       "      <td>Royce Gracie</td>\n",
       "      <td>Submission</td>\n",
       "    </tr>\n",
       "    <tr>\n",
       "      <th>1</th>\n",
       "      <td>Jason DeLucia</td>\n",
       "      <td>Submission</td>\n",
       "    </tr>\n",
       "    <tr>\n",
       "      <th>2</th>\n",
       "      <td>Royce Gracie</td>\n",
       "      <td>Submission</td>\n",
       "    </tr>\n",
       "    <tr>\n",
       "      <th>3</th>\n",
       "      <td>Gerard Gordeau</td>\n",
       "      <td>TKO</td>\n",
       "    </tr>\n",
       "    <tr>\n",
       "      <th>4</th>\n",
       "      <td>Ken Shamrock</td>\n",
       "      <td>Submission</td>\n",
       "    </tr>\n",
       "  </tbody>\n",
       "</table>\n",
       "</div>"
      ],
      "text/plain": [
       "             Name      Method\n",
       "0    Royce Gracie  Submission\n",
       "1   Jason DeLucia  Submission\n",
       "2    Royce Gracie  Submission\n",
       "3  Gerard Gordeau         TKO\n",
       "4    Ken Shamrock  Submission"
      ]
     },
     "execution_count": 13,
     "metadata": {},
     "output_type": "execute_result"
    }
   ],
   "source": [
    "# Making two seperate dataframes with the name of the fighter who won and the method \n",
    "# used to win.\n",
    "method1 = fights[fights[\"f1result\"] == 'win'][['f1name','method']]\n",
    "method2 = fights[fights[\"f2result\"] == 'win'][['f2name','method']] \n",
    "\n",
    "method1.columns = ['Name','Method']\n",
    "method2.columns = ['Name','Method']\n",
    "\n",
    "winning_methods = pd.concat([method1,method2])\n",
    "winning_methods.head()"
   ]
  },
  {
   "cell_type": "code",
   "execution_count": 14,
   "metadata": {
    "collapsed": true
   },
   "outputs": [],
   "source": [
    "# I create seperate columns so that I can count the number of occurences for each method. I am certain there\n",
    "# is a more efficient method than this and will investigate further.\n",
    "winning_methods['Decision'] = 0\n",
    "winning_methods['Submission'] = 0\n",
    "winning_methods['TKO'] = 0\n",
    "winning_methods['KO'] = 0\n",
    "winning_methods['DQ'] = 0\n",
    "winning_methods['NC'] = 0"
   ]
  },
  {
   "cell_type": "code",
   "execution_count": 15,
   "metadata": {},
   "outputs": [
    {
     "data": {
      "text/html": [
       "<div>\n",
       "<style>\n",
       "    .dataframe thead tr:only-child th {\n",
       "        text-align: right;\n",
       "    }\n",
       "\n",
       "    .dataframe thead th {\n",
       "        text-align: left;\n",
       "    }\n",
       "\n",
       "    .dataframe tbody tr th {\n",
       "        vertical-align: top;\n",
       "    }\n",
       "</style>\n",
       "<table border=\"1\" class=\"dataframe\">\n",
       "  <thead>\n",
       "    <tr style=\"text-align: right;\">\n",
       "      <th></th>\n",
       "      <th>Name</th>\n",
       "      <th>Method</th>\n",
       "      <th>Decision</th>\n",
       "      <th>Submission</th>\n",
       "      <th>TKO</th>\n",
       "      <th>KO</th>\n",
       "      <th>DQ</th>\n",
       "      <th>NC</th>\n",
       "    </tr>\n",
       "  </thead>\n",
       "  <tbody>\n",
       "    <tr>\n",
       "      <th>0</th>\n",
       "      <td>Royce Gracie</td>\n",
       "      <td>Submission</td>\n",
       "      <td>0</td>\n",
       "      <td>1</td>\n",
       "      <td>0</td>\n",
       "      <td>0</td>\n",
       "      <td>0</td>\n",
       "      <td>0</td>\n",
       "    </tr>\n",
       "    <tr>\n",
       "      <th>1</th>\n",
       "      <td>Jason DeLucia</td>\n",
       "      <td>Submission</td>\n",
       "      <td>0</td>\n",
       "      <td>1</td>\n",
       "      <td>0</td>\n",
       "      <td>0</td>\n",
       "      <td>0</td>\n",
       "      <td>0</td>\n",
       "    </tr>\n",
       "    <tr>\n",
       "      <th>2</th>\n",
       "      <td>Royce Gracie</td>\n",
       "      <td>Submission</td>\n",
       "      <td>0</td>\n",
       "      <td>1</td>\n",
       "      <td>0</td>\n",
       "      <td>0</td>\n",
       "      <td>0</td>\n",
       "      <td>0</td>\n",
       "    </tr>\n",
       "    <tr>\n",
       "      <th>3</th>\n",
       "      <td>Gerard Gordeau</td>\n",
       "      <td>TKO</td>\n",
       "      <td>0</td>\n",
       "      <td>0</td>\n",
       "      <td>1</td>\n",
       "      <td>0</td>\n",
       "      <td>0</td>\n",
       "      <td>0</td>\n",
       "    </tr>\n",
       "    <tr>\n",
       "      <th>4</th>\n",
       "      <td>Ken Shamrock</td>\n",
       "      <td>Submission</td>\n",
       "      <td>0</td>\n",
       "      <td>1</td>\n",
       "      <td>0</td>\n",
       "      <td>0</td>\n",
       "      <td>0</td>\n",
       "      <td>0</td>\n",
       "    </tr>\n",
       "  </tbody>\n",
       "</table>\n",
       "</div>"
      ],
      "text/plain": [
       "             Name      Method  Decision  Submission  TKO  KO  DQ  NC\n",
       "0    Royce Gracie  Submission         0           1    0   0   0   0\n",
       "1   Jason DeLucia  Submission         0           1    0   0   0   0\n",
       "2    Royce Gracie  Submission         0           1    0   0   0   0\n",
       "3  Gerard Gordeau         TKO         0           0    1   0   0   0\n",
       "4    Ken Shamrock  Submission         0           1    0   0   0   0"
      ]
     },
     "execution_count": 15,
     "metadata": {},
     "output_type": "execute_result"
    }
   ],
   "source": [
    "winning_methods.loc[winning_methods['Method'] == 'Decision', 'Decision' ] = 1\n",
    "winning_methods.loc[winning_methods['Method'] == 'Submission', 'Submission' ] = 1\n",
    "winning_methods.loc[winning_methods['Method'] == 'TKO', 'TKO' ] = 1\n",
    "winning_methods.loc[winning_methods['Method'] == 'Technical', 'TKO' ] = 1\n",
    "winning_methods.loc[winning_methods['Method'] == 'KO', 'KO' ] = 1\n",
    "winning_methods.loc[winning_methods['Method'] == 'DQ', 'DQ' ] = 1\n",
    "winning_methods.loc[winning_methods['Method'] == 'NC', 'NC' ] = 1\n",
    "\n",
    "winning_methods.head()"
   ]
  },
  {
   "cell_type": "code",
   "execution_count": 16,
   "metadata": {},
   "outputs": [
    {
     "data": {
      "text/html": [
       "<div>\n",
       "<style>\n",
       "    .dataframe thead tr:only-child th {\n",
       "        text-align: right;\n",
       "    }\n",
       "\n",
       "    .dataframe thead th {\n",
       "        text-align: left;\n",
       "    }\n",
       "\n",
       "    .dataframe tbody tr th {\n",
       "        vertical-align: top;\n",
       "    }\n",
       "</style>\n",
       "<table border=\"1\" class=\"dataframe\">\n",
       "  <thead>\n",
       "    <tr style=\"text-align: right;\">\n",
       "      <th></th>\n",
       "      <th>Decision</th>\n",
       "      <th>Submission</th>\n",
       "      <th>TKO</th>\n",
       "      <th>KO</th>\n",
       "      <th>DQ</th>\n",
       "      <th>NC</th>\n",
       "    </tr>\n",
       "    <tr>\n",
       "      <th>Name</th>\n",
       "      <th></th>\n",
       "      <th></th>\n",
       "      <th></th>\n",
       "      <th></th>\n",
       "      <th></th>\n",
       "      <th></th>\n",
       "    </tr>\n",
       "  </thead>\n",
       "  <tbody>\n",
       "    <tr>\n",
       "      <th>Aaron Riley</th>\n",
       "      <td>3.0</td>\n",
       "      <td>0.0</td>\n",
       "      <td>0.0</td>\n",
       "      <td>0.0</td>\n",
       "      <td>0.0</td>\n",
       "      <td>0.0</td>\n",
       "    </tr>\n",
       "    <tr>\n",
       "      <th>Aaron Rosa</th>\n",
       "      <td>1.0</td>\n",
       "      <td>0.0</td>\n",
       "      <td>0.0</td>\n",
       "      <td>0.0</td>\n",
       "      <td>0.0</td>\n",
       "      <td>0.0</td>\n",
       "    </tr>\n",
       "    <tr>\n",
       "      <th>Aaron Simpson</th>\n",
       "      <td>5.0</td>\n",
       "      <td>0.0</td>\n",
       "      <td>2.0</td>\n",
       "      <td>0.0</td>\n",
       "      <td>0.0</td>\n",
       "      <td>0.0</td>\n",
       "    </tr>\n",
       "    <tr>\n",
       "      <th>Abel Trujillo</th>\n",
       "      <td>0.0</td>\n",
       "      <td>1.0</td>\n",
       "      <td>2.0</td>\n",
       "      <td>1.0</td>\n",
       "      <td>0.0</td>\n",
       "      <td>0.0</td>\n",
       "    </tr>\n",
       "    <tr>\n",
       "      <th>Adlan Amagov</th>\n",
       "      <td>1.0</td>\n",
       "      <td>0.0</td>\n",
       "      <td>0.0</td>\n",
       "      <td>1.0</td>\n",
       "      <td>0.0</td>\n",
       "      <td>0.0</td>\n",
       "    </tr>\n",
       "  </tbody>\n",
       "</table>\n",
       "</div>"
      ],
      "text/plain": [
       "               Decision  Submission  TKO   KO   DQ   NC\n",
       "Name                                                   \n",
       "Aaron Riley         3.0         0.0  0.0  0.0  0.0  0.0\n",
       "Aaron Rosa          1.0         0.0  0.0  0.0  0.0  0.0\n",
       "Aaron Simpson       5.0         0.0  2.0  0.0  0.0  0.0\n",
       "Abel Trujillo       0.0         1.0  2.0  1.0  0.0  0.0\n",
       "Adlan Amagov        1.0         0.0  0.0  1.0  0.0  0.0"
      ]
     },
     "execution_count": 16,
     "metadata": {},
     "output_type": "execute_result"
    }
   ],
   "source": [
    "# Here I group the fight ending methods by fighter \n",
    "winning_methods = winning_methods.groupby(\"Name\").sum().astype(float)\n",
    "winning_methods.head()"
   ]
  },
  {
   "cell_type": "code",
   "execution_count": 17,
   "metadata": {},
   "outputs": [
    {
     "data": {
      "text/plain": [
       "Decision      2.0\n",
       "Submission    3.0\n",
       "TKO           6.0\n",
       "KO            5.0\n",
       "DQ            0.0\n",
       "NC            0.0\n",
       "Name: Anderson Silva, dtype: float64"
      ]
     },
     "execution_count": 17,
     "metadata": {},
     "output_type": "execute_result"
    }
   ],
   "source": [
    "# testing to see if I have an accurate model by showing the result of Anderson Silva.\n",
    "winning_methods.loc['Anderson Silva']"
   ]
  },
  {
   "cell_type": "code",
   "execution_count": 18,
   "metadata": {
    "collapsed": true
   },
   "outputs": [],
   "source": [
    "top_ten = tot_res['win'].sort_values(ascending=False).head(n=10).index.values"
   ]
  },
  {
   "cell_type": "code",
   "execution_count": 19,
   "metadata": {},
   "outputs": [
    {
     "data": {
      "text/plain": [
       "<matplotlib.legend.Legend at 0x11a780210>"
      ]
     },
     "execution_count": 19,
     "metadata": {},
     "output_type": "execute_result"
    },
    {
     "data": {
      "image/png": "[encoded data removed]",
      "text/plain": [
       "<matplotlib.figure.Figure at 0x11a780bd0>"
      ]
     },
     "metadata": {},
     "output_type": "display_data"
    }
   ],
   "source": [
    "col = ['Decision','Submission','TKO',\"DQ\",\"KO\"]\n",
    "winning_methods.loc[top_ten,col].plot(rot=90, kind='bar', figsize=(10,5),stacked=True)\n",
    "plt.legend(loc='center left', bbox_to_anchor=(1.0, 0.5))"
   ]
  },
  {
   "cell_type": "code",
   "execution_count": 20,
   "metadata": {},
   "outputs": [
    {
     "data": {
      "text/html": [
       "<div>\n",
       "<style>\n",
       "    .dataframe thead tr:only-child th {\n",
       "        text-align: right;\n",
       "    }\n",
       "\n",
       "    .dataframe thead th {\n",
       "        text-align: left;\n",
       "    }\n",
       "\n",
       "    .dataframe tbody tr th {\n",
       "        vertical-align: top;\n",
       "    }\n",
       "</style>\n",
       "<table border=\"1\" class=\"dataframe\">\n",
       "  <thead>\n",
       "    <tr style=\"text-align: right;\">\n",
       "      <th></th>\n",
       "      <th>Decision</th>\n",
       "      <th>Submission</th>\n",
       "      <th>TKO</th>\n",
       "      <th>DQ</th>\n",
       "      <th>KO</th>\n",
       "    </tr>\n",
       "  </thead>\n",
       "  <tbody>\n",
       "    <tr>\n",
       "      <th>count</th>\n",
       "      <td>10.000000</td>\n",
       "      <td>10.000000</td>\n",
       "      <td>10.000000</td>\n",
       "      <td>10.000000</td>\n",
       "      <td>10.000000</td>\n",
       "    </tr>\n",
       "    <tr>\n",
       "      <th>mean</th>\n",
       "      <td>6.300000</td>\n",
       "      <td>3.300000</td>\n",
       "      <td>5.000000</td>\n",
       "      <td>0.100000</td>\n",
       "      <td>1.900000</td>\n",
       "    </tr>\n",
       "    <tr>\n",
       "      <th>std</th>\n",
       "      <td>3.368151</td>\n",
       "      <td>2.057507</td>\n",
       "      <td>2.748737</td>\n",
       "      <td>0.316228</td>\n",
       "      <td>2.378141</td>\n",
       "    </tr>\n",
       "    <tr>\n",
       "      <th>min</th>\n",
       "      <td>2.000000</td>\n",
       "      <td>0.000000</td>\n",
       "      <td>2.000000</td>\n",
       "      <td>0.000000</td>\n",
       "      <td>0.000000</td>\n",
       "    </tr>\n",
       "    <tr>\n",
       "      <th>25%</th>\n",
       "      <td>4.250000</td>\n",
       "      <td>2.250000</td>\n",
       "      <td>2.500000</td>\n",
       "      <td>0.000000</td>\n",
       "      <td>0.000000</td>\n",
       "    </tr>\n",
       "    <tr>\n",
       "      <th>50%</th>\n",
       "      <td>6.000000</td>\n",
       "      <td>4.000000</td>\n",
       "      <td>4.500000</td>\n",
       "      <td>0.000000</td>\n",
       "      <td>0.500000</td>\n",
       "    </tr>\n",
       "    <tr>\n",
       "      <th>75%</th>\n",
       "      <td>7.750000</td>\n",
       "      <td>4.750000</td>\n",
       "      <td>6.750000</td>\n",
       "      <td>0.000000</td>\n",
       "      <td>3.750000</td>\n",
       "    </tr>\n",
       "    <tr>\n",
       "      <th>max</th>\n",
       "      <td>12.000000</td>\n",
       "      <td>6.000000</td>\n",
       "      <td>10.000000</td>\n",
       "      <td>1.000000</td>\n",
       "      <td>6.000000</td>\n",
       "    </tr>\n",
       "  </tbody>\n",
       "</table>\n",
       "</div>"
      ],
      "text/plain": [
       "        Decision  Submission        TKO         DQ         KO\n",
       "count  10.000000   10.000000  10.000000  10.000000  10.000000\n",
       "mean    6.300000    3.300000   5.000000   0.100000   1.900000\n",
       "std     3.368151    2.057507   2.748737   0.316228   2.378141\n",
       "min     2.000000    0.000000   2.000000   0.000000   0.000000\n",
       "25%     4.250000    2.250000   2.500000   0.000000   0.000000\n",
       "50%     6.000000    4.000000   4.500000   0.000000   0.500000\n",
       "75%     7.750000    4.750000   6.750000   0.000000   3.750000\n",
       "max    12.000000    6.000000  10.000000   1.000000   6.000000"
      ]
     },
     "execution_count": 20,
     "metadata": {},
     "output_type": "execute_result"
    }
   ],
   "source": [
    "winning_methods.loc[top_ten,col].describe()"
   ]
  },
  {
   "cell_type": "markdown",
   "metadata": {},
   "source": [
    "As we can see the most commmon methods for finishing fights among the top ten fighters with most wins\n",
    "in decending order are Decision, TKO, Submission and KO are equal, and one DQ. The DQ is for Frank Mir for illegal\n",
    "stomping "
   ]
  },
  {
   "cell_type": "markdown",
   "metadata": {},
   "source": [
    "# For fights that do not go to decision, what are the main methods used to win the fight?"
   ]
  },
  {
   "cell_type": "code",
   "execution_count": 21,
   "metadata": {},
   "outputs": [
    {
     "data": {
      "text/html": [
       "<div>\n",
       "<style>\n",
       "    .dataframe thead tr:only-child th {\n",
       "        text-align: right;\n",
       "    }\n",
       "\n",
       "    .dataframe thead th {\n",
       "        text-align: left;\n",
       "    }\n",
       "\n",
       "    .dataframe tbody tr th {\n",
       "        vertical-align: top;\n",
       "    }\n",
       "</style>\n",
       "<table border=\"1\" class=\"dataframe\">\n",
       "  <thead>\n",
       "    <tr style=\"text-align: right;\">\n",
       "      <th></th>\n",
       "      <th>eid</th>\n",
       "      <th>mid</th>\n",
       "      <th>event_name</th>\n",
       "      <th>event_org</th>\n",
       "      <th>event_date</th>\n",
       "      <th>event_place</th>\n",
       "      <th>f1name</th>\n",
       "      <th>f2name</th>\n",
       "      <th>f1result</th>\n",
       "      <th>f2result</th>\n",
       "      <th>f1fid</th>\n",
       "      <th>f2fid</th>\n",
       "      <th>method</th>\n",
       "      <th>method_d</th>\n",
       "      <th>ref</th>\n",
       "      <th>round</th>\n",
       "      <th>time</th>\n",
       "    </tr>\n",
       "  </thead>\n",
       "  <tbody>\n",
       "    <tr>\n",
       "      <th>76</th>\n",
       "      <td>15</td>\n",
       "      <td>3</td>\n",
       "      <td>UFC 8 - David vs. Goliath</td>\n",
       "      <td>Ultimate Fighting Championship</td>\n",
       "      <td>2/16/1996</td>\n",
       "      <td>Ruben Rodriguez Coliseum, San Juan, Puerto Ric...</td>\n",
       "      <td>Paul Varelans</td>\n",
       "      <td>Joe Moreira</td>\n",
       "      <td>win</td>\n",
       "      <td>loss</td>\n",
       "      <td>112</td>\n",
       "      <td>126</td>\n",
       "      <td>Decision</td>\n",
       "      <td>Unanimous</td>\n",
       "      <td>John McCarthy</td>\n",
       "      <td>1</td>\n",
       "      <td>10:00</td>\n",
       "    </tr>\n",
       "    <tr>\n",
       "      <th>79</th>\n",
       "      <td>16</td>\n",
       "      <td>7</td>\n",
       "      <td>UFC 9 - Motor City Madness</td>\n",
       "      <td>Ultimate Fighting Championship</td>\n",
       "      <td>5/17/1996</td>\n",
       "      <td>Cobo Arena, Detroit, Michigan, United States</td>\n",
       "      <td>Dan Severn</td>\n",
       "      <td>Ken Shamrock</td>\n",
       "      <td>win</td>\n",
       "      <td>loss</td>\n",
       "      <td>52</td>\n",
       "      <td>4</td>\n",
       "      <td>Decision</td>\n",
       "      <td>Split</td>\n",
       "      <td>John McCarthy</td>\n",
       "      <td>1</td>\n",
       "      <td>30:00:00</td>\n",
       "    </tr>\n",
       "    <tr>\n",
       "      <th>93</th>\n",
       "      <td>17</td>\n",
       "      <td>2</td>\n",
       "      <td>UFC 10 - The Tournament</td>\n",
       "      <td>Ultimate Fighting Championship</td>\n",
       "      <td>7/12/1996</td>\n",
       "      <td>Alabama State Fair Arena, Birmingham, Alabama,...</td>\n",
       "      <td>Sam Adkins</td>\n",
       "      <td>Felix Mitchell</td>\n",
       "      <td>win</td>\n",
       "      <td>loss</td>\n",
       "      <td>122</td>\n",
       "      <td>45</td>\n",
       "      <td>Decision</td>\n",
       "      <td>Unanimous</td>\n",
       "      <td>NaN</td>\n",
       "      <td>1</td>\n",
       "      <td>10:00</td>\n",
       "    </tr>\n",
       "  </tbody>\n",
       "</table>\n",
       "</div>"
      ],
      "text/plain": [
       "    eid  mid                  event_name                       event_org  \\\n",
       "76   15    3   UFC 8 - David vs. Goliath  Ultimate Fighting Championship   \n",
       "79   16    7  UFC 9 - Motor City Madness  Ultimate Fighting Championship   \n",
       "93   17    2     UFC 10 - The Tournament  Ultimate Fighting Championship   \n",
       "\n",
       "   event_date                                        event_place  \\\n",
       "76  2/16/1996  Ruben Rodriguez Coliseum, San Juan, Puerto Ric...   \n",
       "79  5/17/1996       Cobo Arena, Detroit, Michigan, United States   \n",
       "93  7/12/1996  Alabama State Fair Arena, Birmingham, Alabama,...   \n",
       "\n",
       "           f1name          f2name f1result f2result  f1fid  f2fid    method  \\\n",
       "76  Paul Varelans     Joe Moreira      win     loss    112    126  Decision   \n",
       "79     Dan Severn    Ken Shamrock      win     loss     52      4  Decision   \n",
       "93     Sam Adkins  Felix Mitchell      win     loss    122     45  Decision   \n",
       "\n",
       "     method_d            ref  round      time  \n",
       "76  Unanimous  John McCarthy      1     10:00  \n",
       "79      Split  John McCarthy      1  30:00:00  \n",
       "93  Unanimous            NaN      1     10:00  "
      ]
     },
     "execution_count": 21,
     "metadata": {},
     "output_type": "execute_result"
    }
   ],
   "source": [
    "# Specific methods used to \n",
    "fights[fights['method'] == 'Decision'].head(3)"
   ]
  },
  {
   "cell_type": "code",
   "execution_count": 22,
   "metadata": {
    "collapsed": true
   },
   "outputs": [],
   "source": [
    "type_finish1 = fights[fights[\"f1result\"] == 'win'][['f1name','method_d']]\n",
    "type_finish2 = fights[fights[\"f2result\"] == 'win'][['f2name','method_d']] \n",
    "\n",
    "type_finish1.columns = ['Name', 'Method']\n",
    "type_finish2.columns = ['Name', 'Method']\n",
    "\n",
    "methods = pd.concat([type_finish1,type_finish2])"
   ]
  },
  {
   "cell_type": "code",
   "execution_count": 23,
   "metadata": {
    "collapsed": true
   },
   "outputs": [],
   "source": [
    "methods = methods.loc[(methods['Method'] != 'Split') ]\n",
    "methods = methods.loc[(methods['Method'] != 'Unanimous')]\n",
    "methods = DataFrame(Counter(methods.Method).most_common(10),columns=[\"Finish_Move\", \"Count\"])\n",
    "methods = methods.pivot_table(index='Finish_Move')\n",
    "p_method= methods.div(methods.sum(0),1)"
   ]
  },
  {
   "cell_type": "code",
   "execution_count": 24,
   "metadata": {},
   "outputs": [
    {
     "data": {
      "text/plain": [
       "<matplotlib.axes._subplots.AxesSubplot at 0x11e599e10>"
      ]
     },
     "execution_count": 24,
     "metadata": {},
     "output_type": "execute_result"
    },
    {
     "data": {
      "image/png": "[encoded data removed]",
      "text/plain": [
       "<matplotlib.figure.Figure at 0x11e4d9550>"
      ]
     },
     "metadata": {},
     "output_type": "display_data"
    }
   ],
   "source": [
    "p_method.plot(kind='barh',ylim=(0.0,max(p_method.Count)+.05),color='red')"
   ]
  },
  {
   "cell_type": "markdown",
   "metadata": {},
   "source": [
    "# Which submissions are most effective?"
   ]
  },
  {
   "cell_type": "code",
   "execution_count": 25,
   "metadata": {},
   "outputs": [
    {
     "data": {
      "text/plain": [
       "<matplotlib.axes._subplots.AxesSubplot at 0x11e5a7290>"
      ]
     },
     "execution_count": 25,
     "metadata": {},
     "output_type": "execute_result"
    },
    {
     "data": {
      "image/png": "[encoded data removed]",
      "text/plain": [
       "<matplotlib.figure.Figure at 0x11e5df310>"
      ]
     },
     "metadata": {},
     "output_type": "display_data"
    }
   ],
   "source": [
    "submissions = fights.loc[fights['method'] == 'Submission']['method_d']\n",
    "submissions = DataFrame(Counter(submissions).most_common(15), columns= ['Submission Type', 'Count'])\n",
    "submissions.pivot_table(index = 'Submission Type').plot(kind='barh')"
   ]
  },
  {
   "cell_type": "markdown",
   "metadata": {},
   "source": [
    "# Which TKOs are more effective? Maybe might take this off."
   ]
  },
  {
   "cell_type": "code",
   "execution_count": 26,
   "metadata": {},
   "outputs": [
    {
     "data": {
      "text/plain": [
       "<matplotlib.axes._subplots.AxesSubplot at 0x11e8e1310>"
      ]
     },
     "execution_count": 26,
     "metadata": {},
     "output_type": "execute_result"
    },
    {
     "data": {
      "image/png": "[encoded data removed]",
      "text/plain": [
       "<matplotlib.figure.Figure at 0x11e6e99d0>"
      ]
     },
     "metadata": {},
     "output_type": "display_data"
    }
   ],
   "source": [
    "tko = fights.loc[fights['method'] == 'TKO']['method_d']\n",
    "tko = DataFrame(Counter(tko).most_common(15), columns= ['TKO Type', 'Count'])\n",
    "tko.pivot_table(index = 'TKO Type').plot(kind='barh', color='green')"
   ]
  },
  {
   "cell_type": "markdown",
   "metadata": {},
   "source": [
    "# As the rounds progress which methods increase in likelyhood to win?"
   ]
  },
  {
   "cell_type": "code",
   "execution_count": 27,
   "metadata": {},
   "outputs": [
    {
     "data": {
      "text/html": [
       "<div>\n",
       "<style>\n",
       "    .dataframe thead tr:only-child th {\n",
       "        text-align: right;\n",
       "    }\n",
       "\n",
       "    .dataframe thead th {\n",
       "        text-align: left;\n",
       "    }\n",
       "\n",
       "    .dataframe tbody tr th {\n",
       "        vertical-align: top;\n",
       "    }\n",
       "</style>\n",
       "<table border=\"1\" class=\"dataframe\">\n",
       "  <thead>\n",
       "    <tr style=\"text-align: right;\">\n",
       "      <th>method</th>\n",
       "      <th>DQ</th>\n",
       "      <th>Decision</th>\n",
       "      <th>Draw</th>\n",
       "      <th>KO</th>\n",
       "      <th>NC</th>\n",
       "      <th>Submission</th>\n",
       "      <th>TKO</th>\n",
       "    </tr>\n",
       "    <tr>\n",
       "      <th>round</th>\n",
       "      <th></th>\n",
       "      <th></th>\n",
       "      <th></th>\n",
       "      <th></th>\n",
       "      <th></th>\n",
       "      <th></th>\n",
       "      <th></th>\n",
       "    </tr>\n",
       "  </thead>\n",
       "  <tbody>\n",
       "    <tr>\n",
       "      <th>1</th>\n",
       "      <td>7</td>\n",
       "      <td>23</td>\n",
       "      <td>2</td>\n",
       "      <td>289</td>\n",
       "      <td>15</td>\n",
       "      <td>436</td>\n",
       "      <td>454</td>\n",
       "    </tr>\n",
       "    <tr>\n",
       "      <th>2</th>\n",
       "      <td>2</td>\n",
       "      <td>7</td>\n",
       "      <td>2</td>\n",
       "      <td>86</td>\n",
       "      <td>8</td>\n",
       "      <td>220</td>\n",
       "      <td>253</td>\n",
       "    </tr>\n",
       "    <tr>\n",
       "      <th>3</th>\n",
       "      <td>2</td>\n",
       "      <td>1358</td>\n",
       "      <td>14</td>\n",
       "      <td>37</td>\n",
       "      <td>14</td>\n",
       "      <td>98</td>\n",
       "      <td>123</td>\n",
       "    </tr>\n",
       "    <tr>\n",
       "      <th>4</th>\n",
       "      <td>0</td>\n",
       "      <td>0</td>\n",
       "      <td>0</td>\n",
       "      <td>1</td>\n",
       "      <td>0</td>\n",
       "      <td>8</td>\n",
       "      <td>12</td>\n",
       "    </tr>\n",
       "    <tr>\n",
       "      <th>5</th>\n",
       "      <td>0</td>\n",
       "      <td>82</td>\n",
       "      <td>3</td>\n",
       "      <td>1</td>\n",
       "      <td>1</td>\n",
       "      <td>6</td>\n",
       "      <td>5</td>\n",
       "    </tr>\n",
       "  </tbody>\n",
       "</table>\n",
       "</div>"
      ],
      "text/plain": [
       "method  DQ  Decision  Draw   KO  NC  Submission  TKO\n",
       "round                                               \n",
       "1        7        23     2  289  15         436  454\n",
       "2        2         7     2   86   8         220  253\n",
       "3        2      1358    14   37  14          98  123\n",
       "4        0         0     0    1   0           8   12\n",
       "5        0        82     3    1   1           6    5"
      ]
     },
     "execution_count": 27,
     "metadata": {},
     "output_type": "execute_result"
    }
   ],
   "source": [
    "finish_method_by_round = pd.crosstab(fights['round'], fights['method'])\n",
    "finish_method_by_round"
   ]
  },
  {
   "cell_type": "code",
   "execution_count": 28,
   "metadata": {
    "collapsed": true
   },
   "outputs": [],
   "source": [
    "finish_method_by_round.drop('NC',axis=1, inplace=True)"
   ]
  },
  {
   "cell_type": "code",
   "execution_count": 29,
   "metadata": {},
   "outputs": [
    {
     "data": {
      "text/plain": [
       "<matplotlib.axes._subplots.AxesSubplot at 0x11ea00e50>"
      ]
     },
     "execution_count": 29,
     "metadata": {},
     "output_type": "execute_result"
    },
    {
     "data": {
      "image/png": "[encoded data removed]",
      "text/plain": [
       "<matplotlib.figure.Figure at 0x11e6ba8d0>"
      ]
     },
     "metadata": {},
     "output_type": "display_data"
    }
   ],
   "source": [
    "finish_method_by_round.plot(kind='bar',stacked=True)"
   ]
  },
  {
   "cell_type": "markdown",
   "metadata": {},
   "source": [
    "Here I realized that I made the mistake of thinking these were all 5 round fights, but the overwhelming amount of decisions for round 3 means that there is a mix of 5 round fights and 3 round fights. Without data I can use that can tell me which of these fights are 5 round fights further analysis cannot be done. \n",
    "\n",
    "However the data shows that there are only a handful of 5 round fights which is true since most of these fights are title fights. An interesting observation is that round 4 is a round with very significantly less amount of finishes. This could be as a result of fighters \"gassing out\" or preserving energy for the last round.\n",
    "\n",
    "Further examination into round 3 shows that for fights that go into the third round decision is the most likely outcome. \n",
    "\n",
    "The earlier rounds are rounds in which one is to see a fighter being knockout, submitted, or TKO'd."
   ]
  },
  {
   "cell_type": "code",
   "execution_count": 30,
   "metadata": {
    "collapsed": true
   },
   "outputs": [],
   "source": [
    "fighter = pd.read_csv(\"/Users/earleaguilar/DataSets/ALL_UFC_FIGHTERS_(2-23-2016)_SHERDOG.COM_Sheet1.csv\")"
   ]
  },
  {
   "cell_type": "code",
   "execution_count": 31,
   "metadata": {
    "collapsed": true
   },
   "outputs": [],
   "source": [
    "wins1 = fights[fights[\"f1result\"] == 'win'].copy()\n",
    "\n",
    "drop_list1 = ['eid','mid', 'event_org','f2name','f2result','f1fid','f2fid']\n",
    "wins1.drop(drop_list1,axis=1,inplace=True)\n",
    "\n",
    "known_fighters = wins1[wins1.f1name.isin(fighter.name)]\n",
    "\n",
    "\n",
    "#known_fighters = pd.concat([set1,set2])\n"
   ]
  },
  {
   "cell_type": "code",
   "execution_count": 32,
   "metadata": {},
   "outputs": [
    {
     "data": {
      "text/html": [
       "<div>\n",
       "<style>\n",
       "    .dataframe thead tr:only-child th {\n",
       "        text-align: right;\n",
       "    }\n",
       "\n",
       "    .dataframe thead th {\n",
       "        text-align: left;\n",
       "    }\n",
       "\n",
       "    .dataframe tbody tr th {\n",
       "        vertical-align: top;\n",
       "    }\n",
       "</style>\n",
       "<table border=\"1\" class=\"dataframe\">\n",
       "  <thead>\n",
       "    <tr style=\"text-align: right;\">\n",
       "      <th></th>\n",
       "      <th>url</th>\n",
       "      <th>fid</th>\n",
       "      <th>name</th>\n",
       "      <th>nick</th>\n",
       "      <th>birth_date</th>\n",
       "      <th>height</th>\n",
       "      <th>weight</th>\n",
       "      <th>association</th>\n",
       "      <th>class</th>\n",
       "      <th>locality</th>\n",
       "      <th>country</th>\n",
       "    </tr>\n",
       "  </thead>\n",
       "  <tbody>\n",
       "    <tr>\n",
       "      <th>0</th>\n",
       "      <td>/fighter/Conor-McGregor-29688</td>\n",
       "      <td>29688</td>\n",
       "      <td>Conor McGregor</td>\n",
       "      <td>Notorious</td>\n",
       "      <td>7/14/1988</td>\n",
       "      <td>68.0</td>\n",
       "      <td>145.0</td>\n",
       "      <td>SBG Ireland</td>\n",
       "      <td>Featherweight</td>\n",
       "      <td>Dublin</td>\n",
       "      <td>Ireland</td>\n",
       "    </tr>\n",
       "    <tr>\n",
       "      <th>1</th>\n",
       "      <td>/fighter/Jon-Jones-27944</td>\n",
       "      <td>27944</td>\n",
       "      <td>Jon Jones</td>\n",
       "      <td>Bones</td>\n",
       "      <td>7/19/1987</td>\n",
       "      <td>76.0</td>\n",
       "      <td>205.0</td>\n",
       "      <td>Jackson-Wink MMA</td>\n",
       "      <td>Light Heavyweight</td>\n",
       "      <td>Rochester, New York</td>\n",
       "      <td>United States</td>\n",
       "    </tr>\n",
       "    <tr>\n",
       "      <th>2</th>\n",
       "      <td>/fighter/Holly-Holm-75125</td>\n",
       "      <td>75125</td>\n",
       "      <td>Holly Holm</td>\n",
       "      <td>The Preacher's Daughter</td>\n",
       "      <td>10/17/1981</td>\n",
       "      <td>68.0</td>\n",
       "      <td>135.0</td>\n",
       "      <td>Jackson-Wink MMA</td>\n",
       "      <td>Bantamweight</td>\n",
       "      <td>Albuquerque, New Mexico</td>\n",
       "      <td>United States</td>\n",
       "    </tr>\n",
       "    <tr>\n",
       "      <th>3</th>\n",
       "      <td>/fighter/Dominick-Cruz-12107</td>\n",
       "      <td>12107</td>\n",
       "      <td>Dominick Cruz</td>\n",
       "      <td>The Dominator</td>\n",
       "      <td>9/3/1985</td>\n",
       "      <td>68.0</td>\n",
       "      <td>134.0</td>\n",
       "      <td>Alliance MMA</td>\n",
       "      <td>Bantamweight</td>\n",
       "      <td>San Diego, California</td>\n",
       "      <td>United States</td>\n",
       "    </tr>\n",
       "    <tr>\n",
       "      <th>4</th>\n",
       "      <td>/fighter/Demetrious-Johnson-45452</td>\n",
       "      <td>45452</td>\n",
       "      <td>Demetrious Johnson</td>\n",
       "      <td>Mighty Mouse</td>\n",
       "      <td>8/13/1986</td>\n",
       "      <td>63.0</td>\n",
       "      <td>125.0</td>\n",
       "      <td>AMC Pankration</td>\n",
       "      <td>Flyweight</td>\n",
       "      <td>Kirkland, Washington</td>\n",
       "      <td>United States</td>\n",
       "    </tr>\n",
       "  </tbody>\n",
       "</table>\n",
       "</div>"
      ],
      "text/plain": [
       "                                 url    fid                name  \\\n",
       "0      /fighter/Conor-McGregor-29688  29688      Conor McGregor   \n",
       "1           /fighter/Jon-Jones-27944  27944           Jon Jones   \n",
       "2          /fighter/Holly-Holm-75125  75125          Holly Holm   \n",
       "3       /fighter/Dominick-Cruz-12107  12107       Dominick Cruz   \n",
       "4  /fighter/Demetrious-Johnson-45452  45452  Demetrious Johnson   \n",
       "\n",
       "                      nick  birth_date  height  weight       association  \\\n",
       "0                Notorious   7/14/1988    68.0   145.0       SBG Ireland   \n",
       "1                    Bones   7/19/1987    76.0   205.0  Jackson-Wink MMA   \n",
       "2  The Preacher's Daughter  10/17/1981    68.0   135.0  Jackson-Wink MMA   \n",
       "3            The Dominator    9/3/1985    68.0   134.0      Alliance MMA   \n",
       "4             Mighty Mouse   8/13/1986    63.0   125.0    AMC Pankration   \n",
       "\n",
       "               class                 locality        country  \n",
       "0      Featherweight                   Dublin        Ireland  \n",
       "1  Light Heavyweight      Rochester, New York  United States  \n",
       "2       Bantamweight  Albuquerque, New Mexico  United States  \n",
       "3       Bantamweight    San Diego, California  United States  \n",
       "4          Flyweight     Kirkland, Washington  United States  "
      ]
     },
     "execution_count": 32,
     "metadata": {},
     "output_type": "execute_result"
    }
   ],
   "source": [
    "fighter.head()"
   ]
  },
  {
   "cell_type": "code",
   "execution_count": 33,
   "metadata": {
    "collapsed": true
   },
   "outputs": [],
   "source": [
    "big_ufc_dat = known_fighters.merge(fighter, left_on=\"f1name\", right_on='name')\n",
    "big_ufc_dat.drop([\"f1name\",'fid','nick','url'], axis=1,inplace=True)"
   ]
  },
  {
   "cell_type": "code",
   "execution_count": 34,
   "metadata": {},
   "outputs": [
    {
     "data": {
      "text/html": [
       "<div>\n",
       "<style>\n",
       "    .dataframe thead tr:only-child th {\n",
       "        text-align: right;\n",
       "    }\n",
       "\n",
       "    .dataframe thead th {\n",
       "        text-align: left;\n",
       "    }\n",
       "\n",
       "    .dataframe tbody tr th {\n",
       "        vertical-align: top;\n",
       "    }\n",
       "</style>\n",
       "<table border=\"1\" class=\"dataframe\">\n",
       "  <thead>\n",
       "    <tr style=\"text-align: right;\">\n",
       "      <th></th>\n",
       "      <th>event_name</th>\n",
       "      <th>event_date</th>\n",
       "      <th>event_place</th>\n",
       "      <th>f1result</th>\n",
       "      <th>method</th>\n",
       "      <th>method_d</th>\n",
       "      <th>ref</th>\n",
       "      <th>round</th>\n",
       "      <th>time</th>\n",
       "      <th>name</th>\n",
       "      <th>birth_date</th>\n",
       "      <th>height</th>\n",
       "      <th>weight</th>\n",
       "      <th>association</th>\n",
       "      <th>class</th>\n",
       "      <th>locality</th>\n",
       "      <th>country</th>\n",
       "    </tr>\n",
       "  </thead>\n",
       "  <tbody>\n",
       "    <tr>\n",
       "      <th>0</th>\n",
       "      <td>UFC 1 - The Beginning</td>\n",
       "      <td>11/12/1993</td>\n",
       "      <td>McNichols Arena, Denver, Colorado, United States</td>\n",
       "      <td>win</td>\n",
       "      <td>Submission</td>\n",
       "      <td>Rear-Naked Choke</td>\n",
       "      <td>Helio Vigio</td>\n",
       "      <td>1</td>\n",
       "      <td>1:44</td>\n",
       "      <td>Royce Gracie</td>\n",
       "      <td>12/12/1966</td>\n",
       "      <td>72.0</td>\n",
       "      <td>176.0</td>\n",
       "      <td>Gracie Humaita</td>\n",
       "      <td>Middleweight</td>\n",
       "      <td>Rio de Janeiro</td>\n",
       "      <td>Brazil</td>\n",
       "    </tr>\n",
       "    <tr>\n",
       "      <th>1</th>\n",
       "      <td>UFC 1 - The Beginning</td>\n",
       "      <td>11/12/1993</td>\n",
       "      <td>McNichols Arena, Denver, Colorado, United States</td>\n",
       "      <td>win</td>\n",
       "      <td>Submission</td>\n",
       "      <td>Rear-Naked Choke</td>\n",
       "      <td>Helio Vigio</td>\n",
       "      <td>1</td>\n",
       "      <td>1:44</td>\n",
       "      <td>Royce Gracie</td>\n",
       "      <td>12/12/1966</td>\n",
       "      <td>72.0</td>\n",
       "      <td>176.0</td>\n",
       "      <td>Gracie Humaita</td>\n",
       "      <td>Middleweight</td>\n",
       "      <td>Rio de Janeiro</td>\n",
       "      <td>Brazil</td>\n",
       "    </tr>\n",
       "    <tr>\n",
       "      <th>2</th>\n",
       "      <td>UFC 1 - The Beginning</td>\n",
       "      <td>11/12/1993</td>\n",
       "      <td>McNichols Arena, Denver, Colorado, United States</td>\n",
       "      <td>win</td>\n",
       "      <td>Submission</td>\n",
       "      <td>Rear-Naked Choke</td>\n",
       "      <td>Helio Vigio</td>\n",
       "      <td>1</td>\n",
       "      <td>0:57</td>\n",
       "      <td>Royce Gracie</td>\n",
       "      <td>12/12/1966</td>\n",
       "      <td>72.0</td>\n",
       "      <td>176.0</td>\n",
       "      <td>Gracie Humaita</td>\n",
       "      <td>Middleweight</td>\n",
       "      <td>Rio de Janeiro</td>\n",
       "      <td>Brazil</td>\n",
       "    </tr>\n",
       "    <tr>\n",
       "      <th>3</th>\n",
       "      <td>UFC 1 - The Beginning</td>\n",
       "      <td>11/12/1993</td>\n",
       "      <td>McNichols Arena, Denver, Colorado, United States</td>\n",
       "      <td>win</td>\n",
       "      <td>Submission</td>\n",
       "      <td>Rear-Naked Choke</td>\n",
       "      <td>Helio Vigio</td>\n",
       "      <td>1</td>\n",
       "      <td>0:57</td>\n",
       "      <td>Royce Gracie</td>\n",
       "      <td>12/12/1966</td>\n",
       "      <td>72.0</td>\n",
       "      <td>176.0</td>\n",
       "      <td>Gracie Humaita</td>\n",
       "      <td>Middleweight</td>\n",
       "      <td>Rio de Janeiro</td>\n",
       "      <td>Brazil</td>\n",
       "    </tr>\n",
       "    <tr>\n",
       "      <th>4</th>\n",
       "      <td>UFC 1 - The Beginning</td>\n",
       "      <td>11/12/1993</td>\n",
       "      <td>McNichols Arena, Denver, Colorado, United States</td>\n",
       "      <td>win</td>\n",
       "      <td>Submission</td>\n",
       "      <td>Smother Choke</td>\n",
       "      <td>Joao Alberto Barreto</td>\n",
       "      <td>1</td>\n",
       "      <td>2:18</td>\n",
       "      <td>Royce Gracie</td>\n",
       "      <td>12/12/1966</td>\n",
       "      <td>72.0</td>\n",
       "      <td>176.0</td>\n",
       "      <td>Gracie Humaita</td>\n",
       "      <td>Middleweight</td>\n",
       "      <td>Rio de Janeiro</td>\n",
       "      <td>Brazil</td>\n",
       "    </tr>\n",
       "  </tbody>\n",
       "</table>\n",
       "</div>"
      ],
      "text/plain": [
       "              event_name  event_date  \\\n",
       "0  UFC 1 - The Beginning  11/12/1993   \n",
       "1  UFC 1 - The Beginning  11/12/1993   \n",
       "2  UFC 1 - The Beginning  11/12/1993   \n",
       "3  UFC 1 - The Beginning  11/12/1993   \n",
       "4  UFC 1 - The Beginning  11/12/1993   \n",
       "\n",
       "                                        event_place f1result      method  \\\n",
       "0  McNichols Arena, Denver, Colorado, United States      win  Submission   \n",
       "1  McNichols Arena, Denver, Colorado, United States      win  Submission   \n",
       "2  McNichols Arena, Denver, Colorado, United States      win  Submission   \n",
       "3  McNichols Arena, Denver, Colorado, United States      win  Submission   \n",
       "4  McNichols Arena, Denver, Colorado, United States      win  Submission   \n",
       "\n",
       "           method_d                   ref  round  time          name  \\\n",
       "0  Rear-Naked Choke           Helio Vigio      1  1:44  Royce Gracie   \n",
       "1  Rear-Naked Choke           Helio Vigio      1  1:44  Royce Gracie   \n",
       "2  Rear-Naked Choke           Helio Vigio      1  0:57  Royce Gracie   \n",
       "3  Rear-Naked Choke           Helio Vigio      1  0:57  Royce Gracie   \n",
       "4     Smother Choke  Joao Alberto Barreto      1  2:18  Royce Gracie   \n",
       "\n",
       "   birth_date  height  weight     association         class        locality  \\\n",
       "0  12/12/1966    72.0   176.0  Gracie Humaita  Middleweight  Rio de Janeiro   \n",
       "1  12/12/1966    72.0   176.0  Gracie Humaita  Middleweight  Rio de Janeiro   \n",
       "2  12/12/1966    72.0   176.0  Gracie Humaita  Middleweight  Rio de Janeiro   \n",
       "3  12/12/1966    72.0   176.0  Gracie Humaita  Middleweight  Rio de Janeiro   \n",
       "4  12/12/1966    72.0   176.0  Gracie Humaita  Middleweight  Rio de Janeiro   \n",
       "\n",
       "  country  \n",
       "0  Brazil  \n",
       "1  Brazil  \n",
       "2  Brazil  \n",
       "3  Brazil  \n",
       "4  Brazil  "
      ]
     },
     "execution_count": 34,
     "metadata": {},
     "output_type": "execute_result"
    }
   ],
   "source": [
    "big_ufc_dat.head()"
   ]
  },
  {
   "cell_type": "code",
   "execution_count": 35,
   "metadata": {},
   "outputs": [
    {
     "data": {
      "text/html": [
       "<div>\n",
       "<style>\n",
       "    .dataframe thead tr:only-child th {\n",
       "        text-align: right;\n",
       "    }\n",
       "\n",
       "    .dataframe thead th {\n",
       "        text-align: left;\n",
       "    }\n",
       "\n",
       "    .dataframe tbody tr th {\n",
       "        vertical-align: top;\n",
       "    }\n",
       "</style>\n",
       "<table border=\"1\" class=\"dataframe\">\n",
       "  <thead>\n",
       "    <tr style=\"text-align: right;\">\n",
       "      <th></th>\n",
       "      <th>event_name</th>\n",
       "      <th>event_date</th>\n",
       "      <th>event_place</th>\n",
       "      <th>f1result</th>\n",
       "      <th>method</th>\n",
       "      <th>method_d</th>\n",
       "      <th>ref</th>\n",
       "      <th>round</th>\n",
       "      <th>time</th>\n",
       "      <th>name</th>\n",
       "      <th>birth_date</th>\n",
       "      <th>height</th>\n",
       "      <th>weight</th>\n",
       "      <th>association</th>\n",
       "      <th>class</th>\n",
       "      <th>locality</th>\n",
       "      <th>country</th>\n",
       "    </tr>\n",
       "  </thead>\n",
       "  <tbody>\n",
       "    <tr>\n",
       "      <th>0</th>\n",
       "      <td>UFC 1 - The Beginning</td>\n",
       "      <td>11/12/1993</td>\n",
       "      <td>McNichols Arena, Denver, Colorado, United States</td>\n",
       "      <td>win</td>\n",
       "      <td>Submission</td>\n",
       "      <td>Rear-Naked Choke</td>\n",
       "      <td>Helio Vigio</td>\n",
       "      <td>1</td>\n",
       "      <td>1:44</td>\n",
       "      <td>Royce Gracie</td>\n",
       "      <td>12/12/1966</td>\n",
       "      <td>72.0</td>\n",
       "      <td>176.0</td>\n",
       "      <td>Gracie Humaita</td>\n",
       "      <td>Middleweight</td>\n",
       "      <td>Rio de Janeiro</td>\n",
       "      <td>Brazil</td>\n",
       "    </tr>\n",
       "    <tr>\n",
       "      <th>1</th>\n",
       "      <td>UFC 1 - The Beginning</td>\n",
       "      <td>11/12/1993</td>\n",
       "      <td>McNichols Arena, Denver, Colorado, United States</td>\n",
       "      <td>win</td>\n",
       "      <td>Submission</td>\n",
       "      <td>Rear-Naked Choke</td>\n",
       "      <td>Helio Vigio</td>\n",
       "      <td>1</td>\n",
       "      <td>1:44</td>\n",
       "      <td>Royce Gracie</td>\n",
       "      <td>12/12/1966</td>\n",
       "      <td>72.0</td>\n",
       "      <td>176.0</td>\n",
       "      <td>Gracie Humaita</td>\n",
       "      <td>Middleweight</td>\n",
       "      <td>Rio de Janeiro</td>\n",
       "      <td>Brazil</td>\n",
       "    </tr>\n",
       "    <tr>\n",
       "      <th>2</th>\n",
       "      <td>UFC 1 - The Beginning</td>\n",
       "      <td>11/12/1993</td>\n",
       "      <td>McNichols Arena, Denver, Colorado, United States</td>\n",
       "      <td>win</td>\n",
       "      <td>Submission</td>\n",
       "      <td>Rear-Naked Choke</td>\n",
       "      <td>Helio Vigio</td>\n",
       "      <td>1</td>\n",
       "      <td>0:57</td>\n",
       "      <td>Royce Gracie</td>\n",
       "      <td>12/12/1966</td>\n",
       "      <td>72.0</td>\n",
       "      <td>176.0</td>\n",
       "      <td>Gracie Humaita</td>\n",
       "      <td>Middleweight</td>\n",
       "      <td>Rio de Janeiro</td>\n",
       "      <td>Brazil</td>\n",
       "    </tr>\n",
       "    <tr>\n",
       "      <th>3</th>\n",
       "      <td>UFC 1 - The Beginning</td>\n",
       "      <td>11/12/1993</td>\n",
       "      <td>McNichols Arena, Denver, Colorado, United States</td>\n",
       "      <td>win</td>\n",
       "      <td>Submission</td>\n",
       "      <td>Rear-Naked Choke</td>\n",
       "      <td>Helio Vigio</td>\n",
       "      <td>1</td>\n",
       "      <td>0:57</td>\n",
       "      <td>Royce Gracie</td>\n",
       "      <td>12/12/1966</td>\n",
       "      <td>72.0</td>\n",
       "      <td>176.0</td>\n",
       "      <td>Gracie Humaita</td>\n",
       "      <td>Middleweight</td>\n",
       "      <td>Rio de Janeiro</td>\n",
       "      <td>Brazil</td>\n",
       "    </tr>\n",
       "    <tr>\n",
       "      <th>4</th>\n",
       "      <td>UFC 1 - The Beginning</td>\n",
       "      <td>11/12/1993</td>\n",
       "      <td>McNichols Arena, Denver, Colorado, United States</td>\n",
       "      <td>win</td>\n",
       "      <td>Submission</td>\n",
       "      <td>Smother Choke</td>\n",
       "      <td>Joao Alberto Barreto</td>\n",
       "      <td>1</td>\n",
       "      <td>2:18</td>\n",
       "      <td>Royce Gracie</td>\n",
       "      <td>12/12/1966</td>\n",
       "      <td>72.0</td>\n",
       "      <td>176.0</td>\n",
       "      <td>Gracie Humaita</td>\n",
       "      <td>Middleweight</td>\n",
       "      <td>Rio de Janeiro</td>\n",
       "      <td>Brazil</td>\n",
       "    </tr>\n",
       "  </tbody>\n",
       "</table>\n",
       "</div>"
      ],
      "text/plain": [
       "              event_name  event_date  \\\n",
       "0  UFC 1 - The Beginning  11/12/1993   \n",
       "1  UFC 1 - The Beginning  11/12/1993   \n",
       "2  UFC 1 - The Beginning  11/12/1993   \n",
       "3  UFC 1 - The Beginning  11/12/1993   \n",
       "4  UFC 1 - The Beginning  11/12/1993   \n",
       "\n",
       "                                        event_place f1result      method  \\\n",
       "0  McNichols Arena, Denver, Colorado, United States      win  Submission   \n",
       "1  McNichols Arena, Denver, Colorado, United States      win  Submission   \n",
       "2  McNichols Arena, Denver, Colorado, United States      win  Submission   \n",
       "3  McNichols Arena, Denver, Colorado, United States      win  Submission   \n",
       "4  McNichols Arena, Denver, Colorado, United States      win  Submission   \n",
       "\n",
       "           method_d                   ref  round  time          name  \\\n",
       "0  Rear-Naked Choke           Helio Vigio      1  1:44  Royce Gracie   \n",
       "1  Rear-Naked Choke           Helio Vigio      1  1:44  Royce Gracie   \n",
       "2  Rear-Naked Choke           Helio Vigio      1  0:57  Royce Gracie   \n",
       "3  Rear-Naked Choke           Helio Vigio      1  0:57  Royce Gracie   \n",
       "4     Smother Choke  Joao Alberto Barreto      1  2:18  Royce Gracie   \n",
       "\n",
       "   birth_date  height  weight     association         class        locality  \\\n",
       "0  12/12/1966    72.0   176.0  Gracie Humaita  Middleweight  Rio de Janeiro   \n",
       "1  12/12/1966    72.0   176.0  Gracie Humaita  Middleweight  Rio de Janeiro   \n",
       "2  12/12/1966    72.0   176.0  Gracie Humaita  Middleweight  Rio de Janeiro   \n",
       "3  12/12/1966    72.0   176.0  Gracie Humaita  Middleweight  Rio de Janeiro   \n",
       "4  12/12/1966    72.0   176.0  Gracie Humaita  Middleweight  Rio de Janeiro   \n",
       "\n",
       "  country  \n",
       "0  Brazil  \n",
       "1  Brazil  \n",
       "2  Brazil  \n",
       "3  Brazil  \n",
       "4  Brazil  "
      ]
     },
     "execution_count": 35,
     "metadata": {},
     "output_type": "execute_result"
    }
   ],
   "source": [
    "big_ufc_dat.head()"
   ]
  },
  {
   "cell_type": "markdown",
   "metadata": {},
   "source": [
    "# We have now merged a new DataSet and can begin to answer more intersting questions such as:\n",
    "\n",
    "1) Which gym produce more fighters that win?\n",
    "\n",
    "2) What type of weightclass do the top gyms tend to condition better?\n",
    "\n",
    "3) What type of fighter do top gyms tend to create? i.e knocout artist, submission artist, wrestler types.\n",
    "\n",
    "4) Which countries have more winning fighters?\n",
    "\n",
    "5) Might be able to do some predictive work?"
   ]
  },
  {
   "cell_type": "markdown",
   "metadata": {},
   "source": [
    "# Which gyms have more wins in the UFC?"
   ]
  },
  {
   "cell_type": "code",
   "execution_count": 36,
   "metadata": {},
   "outputs": [
    {
     "data": {
      "text/html": [
       "<div>\n",
       "<style>\n",
       "    .dataframe thead tr:only-child th {\n",
       "        text-align: right;\n",
       "    }\n",
       "\n",
       "    .dataframe thead th {\n",
       "        text-align: left;\n",
       "    }\n",
       "\n",
       "    .dataframe tbody tr th {\n",
       "        vertical-align: top;\n",
       "    }\n",
       "</style>\n",
       "<table border=\"1\" class=\"dataframe\">\n",
       "  <thead>\n",
       "    <tr style=\"text-align: right;\">\n",
       "      <th>f1result</th>\n",
       "      <th>win</th>\n",
       "    </tr>\n",
       "    <tr>\n",
       "      <th>association</th>\n",
       "      <th></th>\n",
       "    </tr>\n",
       "  </thead>\n",
       "  <tbody>\n",
       "    <tr>\n",
       "      <th>American Top Team</th>\n",
       "      <td>215</td>\n",
       "    </tr>\n",
       "    <tr>\n",
       "      <th>Jackson-Wink MMA</th>\n",
       "      <td>159</td>\n",
       "    </tr>\n",
       "    <tr>\n",
       "      <th>Blackzilians</th>\n",
       "      <td>82</td>\n",
       "    </tr>\n",
       "    <tr>\n",
       "      <th>American Kickboxing Academy</th>\n",
       "      <td>76</td>\n",
       "    </tr>\n",
       "    <tr>\n",
       "      <th>Tristar Gym</th>\n",
       "      <td>71</td>\n",
       "    </tr>\n",
       "    <tr>\n",
       "      <th>Xtreme Couture</th>\n",
       "      <td>71</td>\n",
       "    </tr>\n",
       "    <tr>\n",
       "      <th>Alliance MMA</th>\n",
       "      <td>70</td>\n",
       "    </tr>\n",
       "    <tr>\n",
       "      <th>Nova Uniao</th>\n",
       "      <td>67</td>\n",
       "    </tr>\n",
       "    <tr>\n",
       "      <th>MMA Lab</th>\n",
       "      <td>51</td>\n",
       "    </tr>\n",
       "    <tr>\n",
       "      <th>Team Nogueira</th>\n",
       "      <td>48</td>\n",
       "    </tr>\n",
       "  </tbody>\n",
       "</table>\n",
       "</div>"
      ],
      "text/plain": [
       "f1result                     win\n",
       "association                     \n",
       "American Top Team            215\n",
       "Jackson-Wink MMA             159\n",
       "Blackzilians                  82\n",
       "American Kickboxing Academy   76\n",
       "Tristar Gym                   71\n",
       "Xtreme Couture                71\n",
       "Alliance MMA                  70\n",
       "Nova Uniao                    67\n",
       "MMA Lab                       51\n",
       "Team Nogueira                 48"
      ]
     },
     "execution_count": 36,
     "metadata": {},
     "output_type": "execute_result"
    }
   ],
   "source": [
    "pd.crosstab(big_ufc_dat['association'], big_ufc_dat['f1result']).sort_values('win',ascending=False).head(10)"
   ]
  },
  {
   "cell_type": "markdown",
   "metadata": {},
   "source": [
    "# What type of weightclass do the top gyms tend to condition better?"
   ]
  },
  {
   "cell_type": "code",
   "execution_count": 37,
   "metadata": {
    "collapsed": true
   },
   "outputs": [],
   "source": [
    "test =big_ufc_dat['f1result'].groupby([big_ufc_dat['association'],big_ufc_dat['class']]).count()"
   ]
  },
  {
   "cell_type": "code",
   "execution_count": 38,
   "metadata": {
    "collapsed": true
   },
   "outputs": [],
   "source": [
    "test = test.unstack().fillna(0)\n",
    "top_gyms = ['American Top Team', 'Jackson-Wink MMA','Blackzilians','American Kickboxing Academy','Tristar Gym',\n",
    "           'Xtreme Couture','Alliance MMA','Nova Uniao','MMA Lab','Team Nogueira']\n",
    "test = test.loc[top_gyms]"
   ]
  },
  {
   "cell_type": "code",
   "execution_count": 39,
   "metadata": {
    "scrolled": true
   },
   "outputs": [
    {
     "data": {
      "text/plain": [
       "<matplotlib.legend.Legend at 0x1171342d0>"
      ]
     },
     "execution_count": 39,
     "metadata": {},
     "output_type": "execute_result"
    },
    {
     "data": {
      "image/png": "[encoded data removed]",
      "text/plain": [
       "<matplotlib.figure.Figure at 0x117134390>"
      ]
     },
     "metadata": {},
     "output_type": "display_data"
    }
   ],
   "source": [
    "test.plot(kind='bar',cmap='viridis')\n",
    "plt.legend(loc='center left', bbox_to_anchor=(1.0, 0.5))"
   ]
  },
  {
   "cell_type": "markdown",
   "metadata": {},
   "source": [
    "# What type of fighter do top gyms tend to create? i.e knockout artist, submission artist, wrestler types.\n",
    "\n"
   ]
  },
  {
   "cell_type": "code",
   "execution_count": 40,
   "metadata": {
    "collapsed": true
   },
   "outputs": [],
   "source": [
    "test = pd.crosstab(big_ufc_dat['association'], big_ufc_dat['method'])"
   ]
  },
  {
   "cell_type": "code",
   "execution_count": 41,
   "metadata": {
    "collapsed": true
   },
   "outputs": [],
   "source": [
    "test = test.loc[top_gyms]"
   ]
  },
  {
   "cell_type": "code",
   "execution_count": 42,
   "metadata": {},
   "outputs": [
    {
     "data": {
      "text/html": [
       "<div>\n",
       "<style>\n",
       "    .dataframe thead tr:only-child th {\n",
       "        text-align: right;\n",
       "    }\n",
       "\n",
       "    .dataframe thead th {\n",
       "        text-align: left;\n",
       "    }\n",
       "\n",
       "    .dataframe tbody tr th {\n",
       "        vertical-align: top;\n",
       "    }\n",
       "</style>\n",
       "<table border=\"1\" class=\"dataframe\">\n",
       "  <thead>\n",
       "    <tr style=\"text-align: right;\">\n",
       "      <th>method</th>\n",
       "      <th>DQ</th>\n",
       "      <th>Decision</th>\n",
       "      <th>KO</th>\n",
       "      <th>Submission</th>\n",
       "      <th>TKO</th>\n",
       "    </tr>\n",
       "    <tr>\n",
       "      <th>association</th>\n",
       "      <th></th>\n",
       "      <th></th>\n",
       "      <th></th>\n",
       "      <th></th>\n",
       "      <th></th>\n",
       "    </tr>\n",
       "  </thead>\n",
       "  <tbody>\n",
       "    <tr>\n",
       "      <th>American Top Team</th>\n",
       "      <td>0</td>\n",
       "      <td>92</td>\n",
       "      <td>29</td>\n",
       "      <td>40</td>\n",
       "      <td>54</td>\n",
       "    </tr>\n",
       "    <tr>\n",
       "      <th>Jackson-Wink MMA</th>\n",
       "      <td>0</td>\n",
       "      <td>71</td>\n",
       "      <td>19</td>\n",
       "      <td>26</td>\n",
       "      <td>43</td>\n",
       "    </tr>\n",
       "    <tr>\n",
       "      <th>Blackzilians</th>\n",
       "      <td>0</td>\n",
       "      <td>25</td>\n",
       "      <td>25</td>\n",
       "      <td>7</td>\n",
       "      <td>25</td>\n",
       "    </tr>\n",
       "    <tr>\n",
       "      <th>American Kickboxing Academy</th>\n",
       "      <td>0</td>\n",
       "      <td>38</td>\n",
       "      <td>7</td>\n",
       "      <td>13</td>\n",
       "      <td>18</td>\n",
       "    </tr>\n",
       "    <tr>\n",
       "      <th>Tristar Gym</th>\n",
       "      <td>0</td>\n",
       "      <td>42</td>\n",
       "      <td>4</td>\n",
       "      <td>9</td>\n",
       "      <td>16</td>\n",
       "    </tr>\n",
       "    <tr>\n",
       "      <th>Xtreme Couture</th>\n",
       "      <td>0</td>\n",
       "      <td>37</td>\n",
       "      <td>2</td>\n",
       "      <td>18</td>\n",
       "      <td>14</td>\n",
       "    </tr>\n",
       "    <tr>\n",
       "      <th>Alliance MMA</th>\n",
       "      <td>0</td>\n",
       "      <td>31</td>\n",
       "      <td>11</td>\n",
       "      <td>9</td>\n",
       "      <td>19</td>\n",
       "    </tr>\n",
       "    <tr>\n",
       "      <th>Nova Uniao</th>\n",
       "      <td>0</td>\n",
       "      <td>31</td>\n",
       "      <td>3</td>\n",
       "      <td>18</td>\n",
       "      <td>15</td>\n",
       "    </tr>\n",
       "    <tr>\n",
       "      <th>MMA Lab</th>\n",
       "      <td>1</td>\n",
       "      <td>30</td>\n",
       "      <td>1</td>\n",
       "      <td>12</td>\n",
       "      <td>7</td>\n",
       "    </tr>\n",
       "    <tr>\n",
       "      <th>Team Nogueira</th>\n",
       "      <td>0</td>\n",
       "      <td>11</td>\n",
       "      <td>8</td>\n",
       "      <td>15</td>\n",
       "      <td>14</td>\n",
       "    </tr>\n",
       "  </tbody>\n",
       "</table>\n",
       "</div>"
      ],
      "text/plain": [
       "method                       DQ  Decision  KO  Submission  TKO\n",
       "association                                                   \n",
       "American Top Team             0        92  29          40   54\n",
       "Jackson-Wink MMA              0        71  19          26   43\n",
       "Blackzilians                  0        25  25           7   25\n",
       "American Kickboxing Academy   0        38   7          13   18\n",
       "Tristar Gym                   0        42   4           9   16\n",
       "Xtreme Couture                0        37   2          18   14\n",
       "Alliance MMA                  0        31  11           9   19\n",
       "Nova Uniao                    0        31   3          18   15\n",
       "MMA Lab                       1        30   1          12    7\n",
       "Team Nogueira                 0        11   8          15   14"
      ]
     },
     "execution_count": 42,
     "metadata": {},
     "output_type": "execute_result"
    }
   ],
   "source": [
    "#test.loc[:, (test > 5).any(axis=0)]\n",
    "test"
   ]
  },
  {
   "cell_type": "markdown",
   "metadata": {},
   "source": [
    "# Which countries have more winning fighters?"
   ]
  },
  {
   "cell_type": "code",
   "execution_count": 43,
   "metadata": {},
   "outputs": [
    {
     "data": {
      "text/html": [
       "<div>\n",
       "<style>\n",
       "    .dataframe thead tr:only-child th {\n",
       "        text-align: right;\n",
       "    }\n",
       "\n",
       "    .dataframe thead th {\n",
       "        text-align: left;\n",
       "    }\n",
       "\n",
       "    .dataframe tbody tr th {\n",
       "        vertical-align: top;\n",
       "    }\n",
       "</style>\n",
       "<table border=\"1\" class=\"dataframe\">\n",
       "  <thead>\n",
       "    <tr style=\"text-align: right;\">\n",
       "      <th>f1result</th>\n",
       "      <th>win</th>\n",
       "    </tr>\n",
       "    <tr>\n",
       "      <th>country</th>\n",
       "      <th></th>\n",
       "    </tr>\n",
       "  </thead>\n",
       "  <tbody>\n",
       "    <tr>\n",
       "      <th>United States</th>\n",
       "      <td>2172</td>\n",
       "    </tr>\n",
       "    <tr>\n",
       "      <th>Brazil</th>\n",
       "      <td>584</td>\n",
       "    </tr>\n",
       "    <tr>\n",
       "      <th>Canada</th>\n",
       "      <td>195</td>\n",
       "    </tr>\n",
       "    <tr>\n",
       "      <th>England</th>\n",
       "      <td>110</td>\n",
       "    </tr>\n",
       "    <tr>\n",
       "      <th>Japan</th>\n",
       "      <td>73</td>\n",
       "    </tr>\n",
       "    <tr>\n",
       "      <th>Russia</th>\n",
       "      <td>52</td>\n",
       "    </tr>\n",
       "    <tr>\n",
       "      <th>Australia</th>\n",
       "      <td>49</td>\n",
       "    </tr>\n",
       "    <tr>\n",
       "      <th>South Korea</th>\n",
       "      <td>28</td>\n",
       "    </tr>\n",
       "    <tr>\n",
       "      <th>Netherlands</th>\n",
       "      <td>28</td>\n",
       "    </tr>\n",
       "    <tr>\n",
       "      <th>Sweden</th>\n",
       "      <td>28</td>\n",
       "    </tr>\n",
       "  </tbody>\n",
       "</table>\n",
       "</div>"
      ],
      "text/plain": [
       "f1result        win\n",
       "country            \n",
       "United States  2172\n",
       "Brazil          584\n",
       "Canada          195\n",
       "England         110\n",
       "Japan            73\n",
       "Russia           52\n",
       "Australia        49\n",
       "South Korea      28\n",
       "Netherlands      28\n",
       "Sweden           28"
      ]
     },
     "execution_count": 43,
     "metadata": {},
     "output_type": "execute_result"
    }
   ],
   "source": [
    "pd.crosstab(big_ufc_dat['country'],big_ufc_dat['f1result']).sort_values('win',ascending=False).head(10)"
   ]
  },
  {
   "cell_type": "markdown",
   "metadata": {
    "collapsed": true
   },
   "source": []
  },
  {
   "cell_type": "code",
   "execution_count": null,
   "metadata": {
    "collapsed": true
   },
   "outputs": [],
   "source": []
  },
  {
   "cell_type": "code",
   "execution_count": null,
   "metadata": {},
   "outputs": [],
   "source": []
  },
  {
   "cell_type": "code",
   "execution_count": null,
   "metadata": {},
   "outputs": [],
   "source": []
  },
  {
   "cell_type": "code",
   "execution_count": null,
   "metadata": {},
   "outputs": [],
   "source": []
  },
  {
   "cell_type": "code",
   "execution_count": null,
   "metadata": {},
   "outputs": [],
   "source": []
  },
  {
   "cell_type": "code",
   "execution_count": null,
   "metadata": {},
   "outputs": [],
   "source": []
  },
  {
   "cell_type": "code",
   "execution_count": null,
   "metadata": {},
   "outputs": [],
   "source": []
  },
  {
   "cell_type": "code",
   "execution_count": null,
   "metadata": {
    "collapsed": true
   },
   "outputs": [],
   "source": []
  }
 ],
 "metadata": {
  "kernelspec": {
   "display_name": "Python 2",
   "language": "python",
   "name": "python2"
  },
  "language_info": {
   "codemirror_mode": {
    "name": "ipython",
    "version": 2
   },
   "file_extension": ".py",
   "mimetype": "text/x-python",
   "name": "python",
   "nbconvert_exporter": "python",
   "pygments_lexer": "ipython2",
   "version": "2.7.13"
  }
 },
 "nbformat": 4,
 "nbformat_minor": 2
}
