{
 "cells": [
  {
   "cell_type": "code",
   "execution_count": 1,
   "metadata": {},
   "outputs": [],
   "source": [
    "import numpy as np\n",
    "\n",
    "import pandas as pd\n",
    "\n",
    "from pandas import Series, DataFrame\n"
   ]
  },
  {
   "cell_type": "code",
   "execution_count": 2,
   "metadata": {},
   "outputs": [
    {
     "data": {
      "text/plain": [
       "True"
      ]
     },
     "execution_count": 2,
     "metadata": {},
     "output_type": "execute_result"
    }
   ],
   "source": [
    "# This will open a specific website \n",
    "\n",
    "import webbrowser \n",
    "\n",
    "website = 'http://en.wikipedia.org/wiki/NFL_win-loss_records'\n",
    "\n",
    "webbrowser.open(website)"
   ]
  },
  {
   "cell_type": "code",
   "execution_count": 3,
   "metadata": {},
   "outputs": [],
   "source": [
    "# This command copies the contents from a clipboard onto \n",
    "# a dataframe\n",
    "\n",
    "nfl_frame = pd.read_clipboard()"
   ]
  },
  {
   "cell_type": "code",
   "execution_count": 4,
   "metadata": {},
   "outputs": [
    {
     "data": {
      "text/html": [
       "<div>\n",
       "<style>\n",
       "    .dataframe thead tr:only-child th {\n",
       "        text-align: right;\n",
       "    }\n",
       "\n",
       "    .dataframe thead th {\n",
       "        text-align: left;\n",
       "    }\n",
       "\n",
       "    .dataframe tbody tr th {\n",
       "        vertical-align: top;\n",
       "    }\n",
       "</style>\n",
       "<table border=\"1\" class=\"dataframe\">\n",
       "  <thead>\n",
       "    <tr style=\"text-align: right;\">\n",
       "      <th></th>\n",
       "      <th>Rank</th>\n",
       "      <th>Team</th>\n",
       "      <th>Won</th>\n",
       "      <th>Lost</th>\n",
       "      <th>Tied</th>\n",
       "      <th>Pct.</th>\n",
       "      <th>First NFL Season</th>\n",
       "      <th>Total Games</th>\n",
       "      <th>Division</th>\n",
       "    </tr>\n",
       "  </thead>\n",
       "  <tbody>\n",
       "    <tr>\n",
       "      <th>0</th>\n",
       "      <td>1</td>\n",
       "      <td>Dallas Cowboys</td>\n",
       "      <td>493</td>\n",
       "      <td>367</td>\n",
       "      <td>6</td>\n",
       "      <td>0.573</td>\n",
       "      <td>1960</td>\n",
       "      <td>866</td>\n",
       "      <td>NFC East</td>\n",
       "    </tr>\n",
       "    <tr>\n",
       "      <th>1</th>\n",
       "      <td>2</td>\n",
       "      <td>Green Bay Packers</td>\n",
       "      <td>730</td>\n",
       "      <td>553</td>\n",
       "      <td>37</td>\n",
       "      <td>0.567</td>\n",
       "      <td>1921</td>\n",
       "      <td>1,320</td>\n",
       "      <td>NFC North</td>\n",
       "    </tr>\n",
       "    <tr>\n",
       "      <th>2</th>\n",
       "      <td>3</td>\n",
       "      <td>Chicago Bears</td>\n",
       "      <td>744</td>\n",
       "      <td>568</td>\n",
       "      <td>42</td>\n",
       "      <td>0.565</td>\n",
       "      <td>1920</td>\n",
       "      <td>1,354</td>\n",
       "      <td>NFC North</td>\n",
       "    </tr>\n",
       "    <tr>\n",
       "      <th>3</th>\n",
       "      <td>4</td>\n",
       "      <td>Miami Dolphins</td>\n",
       "      <td>439</td>\n",
       "      <td>341</td>\n",
       "      <td>4</td>\n",
       "      <td>0.563</td>\n",
       "      <td>1966</td>\n",
       "      <td>784</td>\n",
       "      <td>AFC East</td>\n",
       "    </tr>\n",
       "    <tr>\n",
       "      <th>4</th>\n",
       "      <td>5</td>\n",
       "      <td>New England Patriots</td>\n",
       "      <td>476</td>\n",
       "      <td>383</td>\n",
       "      <td>9</td>\n",
       "      <td>0.554</td>\n",
       "      <td>1960</td>\n",
       "      <td>868</td>\n",
       "      <td>AFC East</td>\n",
       "    </tr>\n",
       "  </tbody>\n",
       "</table>\n",
       "</div>"
      ],
      "text/plain": [
       "   Rank                  Team  Won  Lost  Tied   Pct.  First NFL Season  \\\n",
       "0     1        Dallas Cowboys  493   367     6  0.573              1960   \n",
       "1     2     Green Bay Packers  730   553    37  0.567              1921   \n",
       "2     3         Chicago Bears  744   568    42  0.565              1920   \n",
       "3     4        Miami Dolphins  439   341     4  0.563              1966   \n",
       "4     5  New England Patriots  476   383     9  0.554              1960   \n",
       "\n",
       "  Total Games   Division  \n",
       "0         866   NFC East  \n",
       "1       1,320  NFC North  \n",
       "2       1,354  NFC North  \n",
       "3         784   AFC East  \n",
       "4         868   AFC East  "
      ]
     },
     "execution_count": 4,
     "metadata": {},
     "output_type": "execute_result"
    }
   ],
   "source": [
    "nfl_frame"
   ]
  },
  {
   "cell_type": "code",
   "execution_count": 6,
   "metadata": {},
   "outputs": [
    {
     "data": {
      "text/plain": [
       "Index([u'Rank', u'Team', u'Won', u'Lost', u'Tied', u'Pct.',\n",
       "       u'First NFL Season', u'Total Games', u'Division'],\n",
       "      dtype='object')"
      ]
     },
     "execution_count": 6,
     "metadata": {},
     "output_type": "execute_result"
    }
   ],
   "source": [
    "# This will return the name of the columns in the\n",
    "# dataframe\n",
    "nfl_frame.columns"
   ]
  },
  {
   "cell_type": "code",
   "execution_count": 7,
   "metadata": {},
   "outputs": [
    {
     "data": {
      "text/plain": [
       "0    1\n",
       "1    2\n",
       "2    3\n",
       "3    4\n",
       "4    5\n",
       "Name: Rank, dtype: int64"
      ]
     },
     "execution_count": 7,
     "metadata": {},
     "output_type": "execute_result"
    }
   ],
   "source": [
    "# This returns a series\n",
    "nfl_frame.Rank"
   ]
  },
  {
   "cell_type": "code",
   "execution_count": 9,
   "metadata": {},
   "outputs": [
    {
     "data": {
      "text/plain": [
       "0          Dallas Cowboys\n",
       "1       Green Bay Packers\n",
       "2           Chicago Bears\n",
       "3          Miami Dolphins\n",
       "4    New England Patriots\n",
       "Name: Team, dtype: object"
      ]
     },
     "execution_count": 9,
     "metadata": {},
     "output_type": "execute_result"
    }
   ],
   "source": [
    "# This also reaturns a Series\n",
    "nfl_frame.Team"
   ]
  },
  {
   "cell_type": "code",
   "execution_count": 12,
   "metadata": {},
   "outputs": [
    {
     "data": {
      "text/plain": [
       "0    1960\n",
       "1    1921\n",
       "2    1920\n",
       "3    1966\n",
       "4    1960\n",
       "Name: First NFL Season, dtype: int64"
      ]
     },
     "execution_count": 12,
     "metadata": {},
     "output_type": "execute_result"
    }
   ],
   "source": [
    "nfl_frame['First NFL Season']"
   ]
  },
  {
   "cell_type": "code",
   "execution_count": 16,
   "metadata": {},
   "outputs": [
    {
     "data": {
      "text/html": [
       "<div>\n",
       "<style>\n",
       "    .dataframe thead tr:only-child th {\n",
       "        text-align: right;\n",
       "    }\n",
       "\n",
       "    .dataframe thead th {\n",
       "        text-align: left;\n",
       "    }\n",
       "\n",
       "    .dataframe tbody tr th {\n",
       "        vertical-align: top;\n",
       "    }\n",
       "</style>\n",
       "<table border=\"1\" class=\"dataframe\">\n",
       "  <thead>\n",
       "    <tr style=\"text-align: right;\">\n",
       "      <th></th>\n",
       "      <th>Team</th>\n",
       "      <th>First NFL Season</th>\n",
       "      <th>Total Games</th>\n",
       "    </tr>\n",
       "  </thead>\n",
       "  <tbody>\n",
       "    <tr>\n",
       "      <th>0</th>\n",
       "      <td>Dallas Cowboys</td>\n",
       "      <td>1960</td>\n",
       "      <td>866</td>\n",
       "    </tr>\n",
       "    <tr>\n",
       "      <th>1</th>\n",
       "      <td>Green Bay Packers</td>\n",
       "      <td>1921</td>\n",
       "      <td>1,320</td>\n",
       "    </tr>\n",
       "    <tr>\n",
       "      <th>2</th>\n",
       "      <td>Chicago Bears</td>\n",
       "      <td>1920</td>\n",
       "      <td>1,354</td>\n",
       "    </tr>\n",
       "    <tr>\n",
       "      <th>3</th>\n",
       "      <td>Miami Dolphins</td>\n",
       "      <td>1966</td>\n",
       "      <td>784</td>\n",
       "    </tr>\n",
       "    <tr>\n",
       "      <th>4</th>\n",
       "      <td>New England Patriots</td>\n",
       "      <td>1960</td>\n",
       "      <td>868</td>\n",
       "    </tr>\n",
       "  </tbody>\n",
       "</table>\n",
       "</div>"
      ],
      "text/plain": [
       "                   Team  First NFL Season Total Games\n",
       "0        Dallas Cowboys              1960         866\n",
       "1     Green Bay Packers              1921       1,320\n",
       "2         Chicago Bears              1920       1,354\n",
       "3        Miami Dolphins              1966         784\n",
       "4  New England Patriots              1960         868"
      ]
     },
     "execution_count": 16,
     "metadata": {},
     "output_type": "execute_result"
    }
   ],
   "source": [
    "DataFrame(nfl_frame, columns=['Team', 'First NFL Season', 'Total Games'])"
   ]
  },
  {
   "cell_type": "code",
   "execution_count": 17,
   "metadata": {},
   "outputs": [
    {
     "data": {
      "text/html": [
       "<div>\n",
       "<style>\n",
       "    .dataframe thead tr:only-child th {\n",
       "        text-align: right;\n",
       "    }\n",
       "\n",
       "    .dataframe thead th {\n",
       "        text-align: left;\n",
       "    }\n",
       "\n",
       "    .dataframe tbody tr th {\n",
       "        vertical-align: top;\n",
       "    }\n",
       "</style>\n",
       "<table border=\"1\" class=\"dataframe\">\n",
       "  <thead>\n",
       "    <tr style=\"text-align: right;\">\n",
       "      <th></th>\n",
       "      <th>Team</th>\n",
       "      <th>First NFL Season</th>\n",
       "      <th>Total Games</th>\n",
       "      <th>Stadium</th>\n",
       "    </tr>\n",
       "  </thead>\n",
       "  <tbody>\n",
       "    <tr>\n",
       "      <th>0</th>\n",
       "      <td>Dallas Cowboys</td>\n",
       "      <td>1960</td>\n",
       "      <td>866</td>\n",
       "      <td>NaN</td>\n",
       "    </tr>\n",
       "    <tr>\n",
       "      <th>1</th>\n",
       "      <td>Green Bay Packers</td>\n",
       "      <td>1921</td>\n",
       "      <td>1,320</td>\n",
       "      <td>NaN</td>\n",
       "    </tr>\n",
       "    <tr>\n",
       "      <th>2</th>\n",
       "      <td>Chicago Bears</td>\n",
       "      <td>1920</td>\n",
       "      <td>1,354</td>\n",
       "      <td>NaN</td>\n",
       "    </tr>\n",
       "    <tr>\n",
       "      <th>3</th>\n",
       "      <td>Miami Dolphins</td>\n",
       "      <td>1966</td>\n",
       "      <td>784</td>\n",
       "      <td>NaN</td>\n",
       "    </tr>\n",
       "    <tr>\n",
       "      <th>4</th>\n",
       "      <td>New England Patriots</td>\n",
       "      <td>1960</td>\n",
       "      <td>868</td>\n",
       "      <td>NaN</td>\n",
       "    </tr>\n",
       "  </tbody>\n",
       "</table>\n",
       "</div>"
      ],
      "text/plain": [
       "                   Team  First NFL Season Total Games  Stadium\n",
       "0        Dallas Cowboys              1960         866      NaN\n",
       "1     Green Bay Packers              1921       1,320      NaN\n",
       "2         Chicago Bears              1920       1,354      NaN\n",
       "3        Miami Dolphins              1966         784      NaN\n",
       "4  New England Patriots              1960         868      NaN"
      ]
     },
     "execution_count": 17,
     "metadata": {},
     "output_type": "execute_result"
    }
   ],
   "source": [
    "# Creating a column with no information will assign it NaN to all values.\n",
    "DataFrame(nfl_frame, columns=['Team', 'First NFL Season', 'Total Games', 'Stadium'])"
   ]
  },
  {
   "cell_type": "code",
   "execution_count": 21,
   "metadata": {},
   "outputs": [
    {
     "data": {
      "text/plain": [
       "Rank                             4\n",
       "Team                Miami Dolphins\n",
       "Won                            439\n",
       "Lost                           341\n",
       "Tied                             4\n",
       "Pct.                         0.563\n",
       "First NFL Season              1966\n",
       "Total Games                    784\n",
       "Division                  AFC East\n",
       "Name: 3, dtype: object"
      ]
     },
     "execution_count": 21,
     "metadata": {},
     "output_type": "execute_result"
    }
   ],
   "source": [
    "# Rows can also be retrieved through indexing\n",
    "\n",
    "nfl_frame.ix[3]\n"
   ]
  },
  {
   "cell_type": "code",
   "execution_count": 23,
   "metadata": {},
   "outputs": [
    {
     "data": {
      "text/plain": [
       "Rank                             4\n",
       "Team                Miami Dolphins\n",
       "Won                            439\n",
       "Lost                           341\n",
       "Tied                             4\n",
       "Pct.                         0.563\n",
       "First NFL Season              1966\n",
       "Total Games                    784\n",
       "Division                  AFC East\n",
       "Name: 3, dtype: object"
      ]
     },
     "execution_count": 23,
     "metadata": {},
     "output_type": "execute_result"
    }
   ],
   "source": [
    "# Although I got a message that .ix is deprecrated and suggested\n",
    "# using .loc\n",
    "\n",
    "nfl_frame.loc[3]"
   ]
  },
  {
   "cell_type": "code",
   "execution_count": 28,
   "metadata": {},
   "outputs": [],
   "source": [
    "# We can assign a value to all elements of the Stadium column\n",
    "\n",
    "# Must use double qoutes when we use apostrophes\n",
    "nfl_frame['Stadium'] = \"Levi's Stadium\""
   ]
  },
  {
   "cell_type": "code",
   "execution_count": 30,
   "metadata": {},
   "outputs": [
    {
     "data": {
      "text/html": [
       "<div>\n",
       "<style>\n",
       "    .dataframe thead tr:only-child th {\n",
       "        text-align: right;\n",
       "    }\n",
       "\n",
       "    .dataframe thead th {\n",
       "        text-align: left;\n",
       "    }\n",
       "\n",
       "    .dataframe tbody tr th {\n",
       "        vertical-align: top;\n",
       "    }\n",
       "</style>\n",
       "<table border=\"1\" class=\"dataframe\">\n",
       "  <thead>\n",
       "    <tr style=\"text-align: right;\">\n",
       "      <th></th>\n",
       "      <th>Rank</th>\n",
       "      <th>Team</th>\n",
       "      <th>Won</th>\n",
       "      <th>Lost</th>\n",
       "      <th>Tied</th>\n",
       "      <th>Pct.</th>\n",
       "      <th>First NFL Season</th>\n",
       "      <th>Total Games</th>\n",
       "      <th>Division</th>\n",
       "      <th>Stadium</th>\n",
       "    </tr>\n",
       "  </thead>\n",
       "  <tbody>\n",
       "    <tr>\n",
       "      <th>0</th>\n",
       "      <td>1</td>\n",
       "      <td>Dallas Cowboys</td>\n",
       "      <td>493</td>\n",
       "      <td>367</td>\n",
       "      <td>6</td>\n",
       "      <td>0.573</td>\n",
       "      <td>1960</td>\n",
       "      <td>866</td>\n",
       "      <td>NFC East</td>\n",
       "      <td>Levi's Stadium</td>\n",
       "    </tr>\n",
       "    <tr>\n",
       "      <th>1</th>\n",
       "      <td>2</td>\n",
       "      <td>Green Bay Packers</td>\n",
       "      <td>730</td>\n",
       "      <td>553</td>\n",
       "      <td>37</td>\n",
       "      <td>0.567</td>\n",
       "      <td>1921</td>\n",
       "      <td>1,320</td>\n",
       "      <td>NFC North</td>\n",
       "      <td>Levi's Stadium</td>\n",
       "    </tr>\n",
       "    <tr>\n",
       "      <th>2</th>\n",
       "      <td>3</td>\n",
       "      <td>Chicago Bears</td>\n",
       "      <td>744</td>\n",
       "      <td>568</td>\n",
       "      <td>42</td>\n",
       "      <td>0.565</td>\n",
       "      <td>1920</td>\n",
       "      <td>1,354</td>\n",
       "      <td>NFC North</td>\n",
       "      <td>Levi's Stadium</td>\n",
       "    </tr>\n",
       "    <tr>\n",
       "      <th>3</th>\n",
       "      <td>4</td>\n",
       "      <td>Miami Dolphins</td>\n",
       "      <td>439</td>\n",
       "      <td>341</td>\n",
       "      <td>4</td>\n",
       "      <td>0.563</td>\n",
       "      <td>1966</td>\n",
       "      <td>784</td>\n",
       "      <td>AFC East</td>\n",
       "      <td>Levi's Stadium</td>\n",
       "    </tr>\n",
       "    <tr>\n",
       "      <th>4</th>\n",
       "      <td>5</td>\n",
       "      <td>New England Patriots</td>\n",
       "      <td>476</td>\n",
       "      <td>383</td>\n",
       "      <td>9</td>\n",
       "      <td>0.554</td>\n",
       "      <td>1960</td>\n",
       "      <td>868</td>\n",
       "      <td>AFC East</td>\n",
       "      <td>Levi's Stadium</td>\n",
       "    </tr>\n",
       "  </tbody>\n",
       "</table>\n",
       "</div>"
      ],
      "text/plain": [
       "   Rank                  Team  Won  Lost  Tied   Pct.  First NFL Season  \\\n",
       "0     1        Dallas Cowboys  493   367     6  0.573              1960   \n",
       "1     2     Green Bay Packers  730   553    37  0.567              1921   \n",
       "2     3         Chicago Bears  744   568    42  0.565              1920   \n",
       "3     4        Miami Dolphins  439   341     4  0.563              1966   \n",
       "4     5  New England Patriots  476   383     9  0.554              1960   \n",
       "\n",
       "  Total Games   Division         Stadium  \n",
       "0         866   NFC East  Levi's Stadium  \n",
       "1       1,320  NFC North  Levi's Stadium  \n",
       "2       1,354  NFC North  Levi's Stadium  \n",
       "3         784   AFC East  Levi's Stadium  \n",
       "4         868   AFC East  Levi's Stadium  "
      ]
     },
     "execution_count": 30,
     "metadata": {},
     "output_type": "execute_result"
    }
   ],
   "source": [
    "nfl_frame"
   ]
  },
  {
   "cell_type": "code",
   "execution_count": 32,
   "metadata": {},
   "outputs": [
    {
     "data": {
      "text/html": [
       "<div>\n",
       "<style>\n",
       "    .dataframe thead tr:only-child th {\n",
       "        text-align: right;\n",
       "    }\n",
       "\n",
       "    .dataframe thead th {\n",
       "        text-align: left;\n",
       "    }\n",
       "\n",
       "    .dataframe tbody tr th {\n",
       "        vertical-align: top;\n",
       "    }\n",
       "</style>\n",
       "<table border=\"1\" class=\"dataframe\">\n",
       "  <thead>\n",
       "    <tr style=\"text-align: right;\">\n",
       "      <th></th>\n",
       "      <th>Rank</th>\n",
       "      <th>Team</th>\n",
       "      <th>Won</th>\n",
       "      <th>Lost</th>\n",
       "      <th>Tied</th>\n",
       "      <th>Pct.</th>\n",
       "      <th>First NFL Season</th>\n",
       "      <th>Total Games</th>\n",
       "      <th>Division</th>\n",
       "      <th>Stadium</th>\n",
       "    </tr>\n",
       "  </thead>\n",
       "  <tbody>\n",
       "    <tr>\n",
       "      <th>0</th>\n",
       "      <td>1</td>\n",
       "      <td>Dallas Cowboys</td>\n",
       "      <td>493</td>\n",
       "      <td>367</td>\n",
       "      <td>6</td>\n",
       "      <td>0.573</td>\n",
       "      <td>1960</td>\n",
       "      <td>866</td>\n",
       "      <td>NFC East</td>\n",
       "      <td>0</td>\n",
       "    </tr>\n",
       "    <tr>\n",
       "      <th>1</th>\n",
       "      <td>2</td>\n",
       "      <td>Green Bay Packers</td>\n",
       "      <td>730</td>\n",
       "      <td>553</td>\n",
       "      <td>37</td>\n",
       "      <td>0.567</td>\n",
       "      <td>1921</td>\n",
       "      <td>1,320</td>\n",
       "      <td>NFC North</td>\n",
       "      <td>1</td>\n",
       "    </tr>\n",
       "    <tr>\n",
       "      <th>2</th>\n",
       "      <td>3</td>\n",
       "      <td>Chicago Bears</td>\n",
       "      <td>744</td>\n",
       "      <td>568</td>\n",
       "      <td>42</td>\n",
       "      <td>0.565</td>\n",
       "      <td>1920</td>\n",
       "      <td>1,354</td>\n",
       "      <td>NFC North</td>\n",
       "      <td>2</td>\n",
       "    </tr>\n",
       "    <tr>\n",
       "      <th>3</th>\n",
       "      <td>4</td>\n",
       "      <td>Miami Dolphins</td>\n",
       "      <td>439</td>\n",
       "      <td>341</td>\n",
       "      <td>4</td>\n",
       "      <td>0.563</td>\n",
       "      <td>1966</td>\n",
       "      <td>784</td>\n",
       "      <td>AFC East</td>\n",
       "      <td>3</td>\n",
       "    </tr>\n",
       "    <tr>\n",
       "      <th>4</th>\n",
       "      <td>5</td>\n",
       "      <td>New England Patriots</td>\n",
       "      <td>476</td>\n",
       "      <td>383</td>\n",
       "      <td>9</td>\n",
       "      <td>0.554</td>\n",
       "      <td>1960</td>\n",
       "      <td>868</td>\n",
       "      <td>AFC East</td>\n",
       "      <td>4</td>\n",
       "    </tr>\n",
       "  </tbody>\n",
       "</table>\n",
       "</div>"
      ],
      "text/plain": [
       "   Rank                  Team  Won  Lost  Tied   Pct.  First NFL Season  \\\n",
       "0     1        Dallas Cowboys  493   367     6  0.573              1960   \n",
       "1     2     Green Bay Packers  730   553    37  0.567              1921   \n",
       "2     3         Chicago Bears  744   568    42  0.565              1920   \n",
       "3     4        Miami Dolphins  439   341     4  0.563              1966   \n",
       "4     5  New England Patriots  476   383     9  0.554              1960   \n",
       "\n",
       "  Total Games   Division  Stadium  \n",
       "0         866   NFC East        0  \n",
       "1       1,320  NFC North        1  \n",
       "2       1,354  NFC North        2  \n",
       "3         784   AFC East        3  \n",
       "4         868   AFC East        4  "
      ]
     },
     "execution_count": 32,
     "metadata": {},
     "output_type": "execute_result"
    }
   ],
   "source": [
    "# We can put numbers for stadiums as well\n",
    "\n",
    "nfl_frame[\"Stadium\"] = np.arange(5)\n",
    "\n",
    "nfl_frame"
   ]
  },
  {
   "cell_type": "code",
   "execution_count": 34,
   "metadata": {
    "collapsed": true
   },
   "outputs": [],
   "source": [
    "# We can also add a Series to a DataFrame\n",
    "\n",
    "stadiums = Series([\"Levi's Stadium\",\"AT&T Stadium\"], index=[4,0])"
   ]
  },
  {
   "cell_type": "code",
   "execution_count": 35,
   "metadata": {},
   "outputs": [
    {
     "data": {
      "text/plain": [
       "4    Levi's Stadium\n",
       "0      AT&T Stadium\n",
       "dtype: object"
      ]
     },
     "execution_count": 35,
     "metadata": {},
     "output_type": "execute_result"
    }
   ],
   "source": [
    "stadiums"
   ]
  },
  {
   "cell_type": "code",
   "execution_count": 37,
   "metadata": {},
   "outputs": [
    {
     "data": {
      "text/html": [
       "<div>\n",
       "<style>\n",
       "    .dataframe thead tr:only-child th {\n",
       "        text-align: right;\n",
       "    }\n",
       "\n",
       "    .dataframe thead th {\n",
       "        text-align: left;\n",
       "    }\n",
       "\n",
       "    .dataframe tbody tr th {\n",
       "        vertical-align: top;\n",
       "    }\n",
       "</style>\n",
       "<table border=\"1\" class=\"dataframe\">\n",
       "  <thead>\n",
       "    <tr style=\"text-align: right;\">\n",
       "      <th></th>\n",
       "      <th>Rank</th>\n",
       "      <th>Team</th>\n",
       "      <th>Won</th>\n",
       "      <th>Lost</th>\n",
       "      <th>Tied</th>\n",
       "      <th>Pct.</th>\n",
       "      <th>First NFL Season</th>\n",
       "      <th>Total Games</th>\n",
       "      <th>Division</th>\n",
       "      <th>Stadium</th>\n",
       "      <th>stadium</th>\n",
       "    </tr>\n",
       "  </thead>\n",
       "  <tbody>\n",
       "    <tr>\n",
       "      <th>0</th>\n",
       "      <td>1</td>\n",
       "      <td>Dallas Cowboys</td>\n",
       "      <td>493</td>\n",
       "      <td>367</td>\n",
       "      <td>6</td>\n",
       "      <td>0.573</td>\n",
       "      <td>1960</td>\n",
       "      <td>866</td>\n",
       "      <td>NFC East</td>\n",
       "      <td>0</td>\n",
       "      <td>AT&amp;T Stadium</td>\n",
       "    </tr>\n",
       "    <tr>\n",
       "      <th>1</th>\n",
       "      <td>2</td>\n",
       "      <td>Green Bay Packers</td>\n",
       "      <td>730</td>\n",
       "      <td>553</td>\n",
       "      <td>37</td>\n",
       "      <td>0.567</td>\n",
       "      <td>1921</td>\n",
       "      <td>1,320</td>\n",
       "      <td>NFC North</td>\n",
       "      <td>1</td>\n",
       "      <td>NaN</td>\n",
       "    </tr>\n",
       "    <tr>\n",
       "      <th>2</th>\n",
       "      <td>3</td>\n",
       "      <td>Chicago Bears</td>\n",
       "      <td>744</td>\n",
       "      <td>568</td>\n",
       "      <td>42</td>\n",
       "      <td>0.565</td>\n",
       "      <td>1920</td>\n",
       "      <td>1,354</td>\n",
       "      <td>NFC North</td>\n",
       "      <td>2</td>\n",
       "      <td>NaN</td>\n",
       "    </tr>\n",
       "    <tr>\n",
       "      <th>3</th>\n",
       "      <td>4</td>\n",
       "      <td>Miami Dolphins</td>\n",
       "      <td>439</td>\n",
       "      <td>341</td>\n",
       "      <td>4</td>\n",
       "      <td>0.563</td>\n",
       "      <td>1966</td>\n",
       "      <td>784</td>\n",
       "      <td>AFC East</td>\n",
       "      <td>3</td>\n",
       "      <td>NaN</td>\n",
       "    </tr>\n",
       "    <tr>\n",
       "      <th>4</th>\n",
       "      <td>5</td>\n",
       "      <td>New England Patriots</td>\n",
       "      <td>476</td>\n",
       "      <td>383</td>\n",
       "      <td>9</td>\n",
       "      <td>0.554</td>\n",
       "      <td>1960</td>\n",
       "      <td>868</td>\n",
       "      <td>AFC East</td>\n",
       "      <td>4</td>\n",
       "      <td>Levi's Stadium</td>\n",
       "    </tr>\n",
       "  </tbody>\n",
       "</table>\n",
       "</div>"
      ],
      "text/plain": [
       "   Rank                  Team  Won  Lost  Tied   Pct.  First NFL Season  \\\n",
       "0     1        Dallas Cowboys  493   367     6  0.573              1960   \n",
       "1     2     Green Bay Packers  730   553    37  0.567              1921   \n",
       "2     3         Chicago Bears  744   568    42  0.565              1920   \n",
       "3     4        Miami Dolphins  439   341     4  0.563              1966   \n",
       "4     5  New England Patriots  476   383     9  0.554              1960   \n",
       "\n",
       "  Total Games   Division  Stadium         stadium  \n",
       "0         866   NFC East        0    AT&T Stadium  \n",
       "1       1,320  NFC North        1             NaN  \n",
       "2       1,354  NFC North        2             NaN  \n",
       "3         784   AFC East        3             NaN  \n",
       "4         868   AFC East        4  Levi's Stadium  "
      ]
     },
     "execution_count": 37,
     "metadata": {},
     "output_type": "execute_result"
    }
   ],
   "source": [
    "nfl_frame[\"stadium\"] = stadiums\n",
    "\n",
    "nfl_frame"
   ]
  },
  {
   "cell_type": "code",
   "execution_count": 41,
   "metadata": {},
   "outputs": [
    {
     "data": {
      "text/html": [
       "<div>\n",
       "<style>\n",
       "    .dataframe thead tr:only-child th {\n",
       "        text-align: right;\n",
       "    }\n",
       "\n",
       "    .dataframe thead th {\n",
       "        text-align: left;\n",
       "    }\n",
       "\n",
       "    .dataframe tbody tr th {\n",
       "        vertical-align: top;\n",
       "    }\n",
       "</style>\n",
       "<table border=\"1\" class=\"dataframe\">\n",
       "  <thead>\n",
       "    <tr style=\"text-align: right;\">\n",
       "      <th></th>\n",
       "      <th>Rank</th>\n",
       "      <th>Team</th>\n",
       "      <th>Won</th>\n",
       "      <th>Lost</th>\n",
       "      <th>Tied</th>\n",
       "      <th>Pct.</th>\n",
       "      <th>First NFL Season</th>\n",
       "      <th>Total Games</th>\n",
       "      <th>Division</th>\n",
       "    </tr>\n",
       "  </thead>\n",
       "  <tbody>\n",
       "    <tr>\n",
       "      <th>0</th>\n",
       "      <td>1</td>\n",
       "      <td>Dallas Cowboys</td>\n",
       "      <td>493</td>\n",
       "      <td>367</td>\n",
       "      <td>6</td>\n",
       "      <td>0.573</td>\n",
       "      <td>1960</td>\n",
       "      <td>866</td>\n",
       "      <td>NFC East</td>\n",
       "    </tr>\n",
       "    <tr>\n",
       "      <th>1</th>\n",
       "      <td>2</td>\n",
       "      <td>Green Bay Packers</td>\n",
       "      <td>730</td>\n",
       "      <td>553</td>\n",
       "      <td>37</td>\n",
       "      <td>0.567</td>\n",
       "      <td>1921</td>\n",
       "      <td>1,320</td>\n",
       "      <td>NFC North</td>\n",
       "    </tr>\n",
       "    <tr>\n",
       "      <th>2</th>\n",
       "      <td>3</td>\n",
       "      <td>Chicago Bears</td>\n",
       "      <td>744</td>\n",
       "      <td>568</td>\n",
       "      <td>42</td>\n",
       "      <td>0.565</td>\n",
       "      <td>1920</td>\n",
       "      <td>1,354</td>\n",
       "      <td>NFC North</td>\n",
       "    </tr>\n",
       "    <tr>\n",
       "      <th>3</th>\n",
       "      <td>4</td>\n",
       "      <td>Miami Dolphins</td>\n",
       "      <td>439</td>\n",
       "      <td>341</td>\n",
       "      <td>4</td>\n",
       "      <td>0.563</td>\n",
       "      <td>1966</td>\n",
       "      <td>784</td>\n",
       "      <td>AFC East</td>\n",
       "    </tr>\n",
       "    <tr>\n",
       "      <th>4</th>\n",
       "      <td>5</td>\n",
       "      <td>New England Patriots</td>\n",
       "      <td>476</td>\n",
       "      <td>383</td>\n",
       "      <td>9</td>\n",
       "      <td>0.554</td>\n",
       "      <td>1960</td>\n",
       "      <td>868</td>\n",
       "      <td>AFC East</td>\n",
       "    </tr>\n",
       "  </tbody>\n",
       "</table>\n",
       "</div>"
      ],
      "text/plain": [
       "   Rank                  Team  Won  Lost  Tied   Pct.  First NFL Season  \\\n",
       "0     1        Dallas Cowboys  493   367     6  0.573              1960   \n",
       "1     2     Green Bay Packers  730   553    37  0.567              1921   \n",
       "2     3         Chicago Bears  744   568    42  0.565              1920   \n",
       "3     4        Miami Dolphins  439   341     4  0.563              1966   \n",
       "4     5  New England Patriots  476   383     9  0.554              1960   \n",
       "\n",
       "  Total Games   Division  \n",
       "0         866   NFC East  \n",
       "1       1,320  NFC North  \n",
       "2       1,354  NFC North  \n",
       "3         784   AFC East  \n",
       "4         868   AFC East  "
      ]
     },
     "execution_count": 41,
     "metadata": {},
     "output_type": "execute_result"
    }
   ],
   "source": [
    "# Columns can also be deleted\n",
    "\n",
    "del nfl_frame['stadium']\n",
    "\n",
    "nfl_frame"
   ]
  },
  {
   "cell_type": "code",
   "execution_count": 46,
   "metadata": {},
   "outputs": [
    {
     "data": {
      "text/html": [
       "<div>\n",
       "<style>\n",
       "    .dataframe thead tr:only-child th {\n",
       "        text-align: right;\n",
       "    }\n",
       "\n",
       "    .dataframe thead th {\n",
       "        text-align: left;\n",
       "    }\n",
       "\n",
       "    .dataframe tbody tr th {\n",
       "        vertical-align: top;\n",
       "    }\n",
       "</style>\n",
       "<table border=\"1\" class=\"dataframe\">\n",
       "  <thead>\n",
       "    <tr style=\"text-align: right;\">\n",
       "      <th></th>\n",
       "      <th>City</th>\n",
       "      <th>Population</th>\n",
       "    </tr>\n",
       "  </thead>\n",
       "  <tbody>\n",
       "    <tr>\n",
       "      <th>0</th>\n",
       "      <td>SF</td>\n",
       "      <td>837000</td>\n",
       "    </tr>\n",
       "    <tr>\n",
       "      <th>1</th>\n",
       "      <td>LA</td>\n",
       "      <td>3880000</td>\n",
       "    </tr>\n",
       "    <tr>\n",
       "      <th>2</th>\n",
       "      <td>NYC</td>\n",
       "      <td>8400000</td>\n",
       "    </tr>\n",
       "  </tbody>\n",
       "</table>\n",
       "</div>"
      ],
      "text/plain": [
       "  City  Population\n",
       "0   SF      837000\n",
       "1   LA     3880000\n",
       "2  NYC     8400000"
      ]
     },
     "execution_count": 46,
     "metadata": {},
     "output_type": "execute_result"
    }
   ],
   "source": [
    "# DataFrames can also be instantiated \n",
    "\n",
    "data = {'City': ['SF','LA', 'NYC'], 'Population':[837000,3880000,8400000] }\n",
    "\n",
    "city_frame = DataFrame(data)\n",
    "\n",
    "city_frame"
   ]
  },
  {
   "cell_type": "code",
   "execution_count": 47,
   "metadata": {},
   "outputs": [
    {
     "data": {
      "text/plain": [
       "True"
      ]
     },
     "execution_count": 47,
     "metadata": {},
     "output_type": "execute_result"
    }
   ],
   "source": [
    "#For full list of ways to create DataFrames from various sources go to teh documentation for pandas:\n",
    "website = 'http://pandas.pydata.org/pandas-docs/dev/generated/pandas.DataFrame.html'\n",
    "webbrowser.open(website)"
   ]
  },
  {
   "cell_type": "code",
   "execution_count": null,
   "metadata": {
    "collapsed": true
   },
   "outputs": [],
   "source": []
  }
 ],
 "metadata": {
  "anaconda-cloud": {},
  "kernelspec": {
   "display_name": "Python 2",
   "language": "python",
   "name": "python2"
  },
  "language_info": {
   "codemirror_mode": {
    "name": "ipython",
    "version": 2
   },
   "file_extension": ".py",
   "mimetype": "text/x-python",
   "name": "python",
   "nbconvert_exporter": "python",
   "pygments_lexer": "ipython2",
   "version": "2.7.13"
  }
 },
 "nbformat": 4,
 "nbformat_minor": 1
}
